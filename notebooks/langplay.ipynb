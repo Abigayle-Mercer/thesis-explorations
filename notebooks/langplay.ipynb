{
 "cells": [
  {
   "cell_type": "code",
   "execution_count": 24,
   "metadata": {},
   "outputs": [],
   "source": [
    "from dotenv import load_dotenv\n",
    "from langchain.chat_models import ChatOpenAI\n",
    "from langchain.tools import BaseTool, Tool, tool\n",
    "from langgraph.graph import StateGraph, END\n",
    "from langchain_core.messages import SystemMessage, HumanMessage, BaseMessage, FunctionMessage\n",
    "from langgraph.checkpoint.memory import MemorySaver\n",
    "from langgraph.prebuilt.tool_executor import ToolExecutor\n",
    "from langgraph.prebuilt import ToolInvocation\n",
    "from langchain.tools import format_tool_to_openai_function\n",
    "from typing import TypedDict, Sequence\n",
    "\n",
    "\n",
    "\n",
    "\n",
    "import json\n",
    "\n",
    "import os\n",
    "\n",
    "load_dotenv()\n",
    "\n",
    "api_key = os.getenv(\"OPENAI_API_KEY\")\n",
    "\n",
    "os.environ[\"OPENAI_API_KEY\"] = api_key"
   ]
  },
  {
   "cell_type": "code",
   "execution_count": 25,
   "metadata": {},
   "outputs": [],
   "source": [
    "llm = ChatOpenAI(api_key=api_key, model=\"gpt-4\", temperature=0, streaming=True)\n",
    "\n",
    "# Memory saver for the workflow\n",
    "memory = MemorySaver()\n"
   ]
  },
  {
   "cell_type": "code",
   "execution_count": 26,
   "metadata": {},
   "outputs": [],
   "source": [
    "class AgentState(TypedDict):\n",
    "    messages: Sequence[BaseMessage]"
   ]
  },
  {
   "cell_type": "code",
   "execution_count": 27,
   "metadata": {},
   "outputs": [],
   "source": [
    "@tool(\"previous_cell\", return_direct=True)\n",
    "def previous_cell(input: str) -> str:\n",
    "    \"\"\"Fetch the content of the previous cell given its index.\"\"\"\n",
    "    try:\n",
    "        idx = int(input)\n",
    "        with open(\"../test_data/test_book.ipynb\", \"r\") as f:\n",
    "            notebook_data = json.load(f)\n",
    "            cells = notebook_data.get(\"cells\", [])\n",
    "            if 0 <= idx < len(cells) and cells[idx][\"cell_type\"] == \"code\":\n",
    "                return \"\".join(cells[idx][\"source\"]).strip()\n",
    "            return \"No code found or invalid index.\"\n",
    "    except Exception as e:\n",
    "        return f\"Error fetching previous cell: {str(e)}\""
   ]
  },
  {
   "cell_type": "code",
   "execution_count": 28,
   "metadata": {},
   "outputs": [],
   "source": [
    "@tool(\"check_for_unwritten_function\", return_direct=True)\n",
    "def check_for_unwritten_function(input: str) -> str:\n",
    "    \"\"\"\n",
    "    Inspects code for functions with 'pass' or no body.\n",
    "    If such functions exist, return their names; otherwise, return nothing.\n",
    "    \"\"\"\n",
    "    import ast\n",
    "    try:\n",
    "        tree = ast.parse(input)\n",
    "        for node in tree.body:\n",
    "            if (\n",
    "                isinstance(node, ast.FunctionDef)\n",
    "                and len(node.body) == 1\n",
    "                and isinstance(node.body[0], ast.Pass)\n",
    "            ):\n",
    "                return f\"Unwritten function: {node.name}\"\n",
    "        # No issues, return the original content\n",
    "        return \"\"\n",
    "    except Exception as e:\n",
    "        return f\"Error analyzing code: {str(e)}\""
   ]
  },
  {
   "cell_type": "code",
   "execution_count": 29,
   "metadata": {},
   "outputs": [],
   "source": [
    "@tool(\"find_function_calls\", return_direct=True)\n",
    "def find_function_calls(input: str) -> str:\n",
    "    \"\"\"Finds all cells in the notebook where the unwritten function is called. Returns a list of cell content.\"\"\"\n",
    "    try:\n",
    "        func_name = input\n",
    "        with open(\"../test_data/test_book.ipynb\", \"r\") as f:\n",
    "            notebook_data = json.load(f)\n",
    "            cells = notebook_data.get(\"cells\", [])\n",
    "            return json.dumps(\n",
    "                [\n",
    "                    \"\".join(cell[\"source\"])\n",
    "                    for cell in cells\n",
    "                    if cell[\"cell_type\"] == \"code\" and func_name in \"\".join(cell[\"source\"])\n",
    "                ]\n",
    "            )\n",
    "    except Exception as e:\n",
    "        return f\"Error searching for function calls: {str(e)}\"\n"
   ]
  },
  {
   "cell_type": "code",
   "execution_count": 30,
   "metadata": {},
   "outputs": [
    {
     "name": "stderr",
     "output_type": "stream",
     "text": [
      "/var/folders/3h/z8r254ts5r58qphcnd1h46xw0000gn/T/ipykernel_65042/2327283001.py:2: LangGraphDeprecationWarning: ToolExecutor is deprecated as of version 0.2.0 and will be removed in 0.3.0. Use langgraph.prebuilt.ToolNode instead.\n",
      "  tool_executer = ToolExecutor(tools)\n"
     ]
    }
   ],
   "source": [
    "tools = [previous_cell, check_for_unwritten_function, find_function_calls]\n",
    "tool_executer = ToolExecutor(tools)\n",
    "functions = [format_tool_to_openai_function(t) for t in tools]\n",
    "model = llm.bind_functions(functions)"
   ]
  },
  {
   "cell_type": "code",
   "execution_count": 31,
   "metadata": {},
   "outputs": [],
   "source": [
    "def agent(state):\n",
    "    messages = state['messages']\n",
    "    response = model.invoke(messages)\n",
    "    return {\"messages\": [response]}"
   ]
  },
  {
   "cell_type": "code",
   "execution_count": 32,
   "metadata": {},
   "outputs": [],
   "source": [
    "def should_continue(state):\n",
    "    messages = state[\"messages\"]\n",
    "    last_message = messages[-1]\n",
    "    if \"function_call\" not in last_message.additional_kwargs:\n",
    "        return \"end\"\n",
    "    else: \n",
    "        return \"continue\""
   ]
  },
  {
   "cell_type": "code",
   "execution_count": 33,
   "metadata": {},
   "outputs": [],
   "source": [
    "def call_tool(state):\n",
    "    messages = state[\"messages\"]\n",
    "    last_message = messages[-1]\n",
    "\n",
    "    action = ToolInvocation(\n",
    "        tool = last_message.additional_kwargs[\"function_call\"][\"name\"],\n",
    "        tool_input = json.loads(last_message.additional_kwargs[\"function_call\"][\"arguments\"]))\n",
    "\n",
    "    response = tool_executer.invoke(action)\n",
    "    function_message = FunctionMessage(content=str(response), name = action.tool)\n",
    "    return {\"messages\": [function_message]}"
   ]
  },
  {
   "cell_type": "code",
   "execution_count": 34,
   "metadata": {},
   "outputs": [],
   "source": [
    "workflow = StateGraph(AgentState)\n",
    "\n",
    "workflow.add_node(\"agent\", agent)\n",
    "workflow.add_node(\"action\", call_tool)\n",
    "\n",
    "workflow.set_entry_point(\"agent\")\n",
    "\n",
    "workflow.add_conditional_edges(\"agent\", should_continue, { \"continue\": \"action\", \"end\": END})\n",
    "\n",
    "workflow.add_edge(\"action\", \"agent\")\n",
    "\n",
    "app = workflow.compile(checkpointer = memory)"
   ]
  },
  {
   "cell_type": "code",
   "execution_count": 35,
   "metadata": {},
   "outputs": [],
   "source": [
    "def fix_notebook_code_cells(input_path, output_path):\n",
    "    with open(input_path, \"r\") as f:\n",
    "        notebook_data = json.load(f)\n",
    "\n",
    "    cells = notebook_data.get(\"cells\", [])\n",
    "    processed_cells = []\n",
    "\n",
    "    for idx, cell in enumerate(cells):\n",
    "        if cell[\"cell_type\"] == \"code\":\n",
    "            code = \"\".join(cell.get(\"source\", \"\")).strip()\n",
    "            if code:\n",
    "                config = {\"configurable\": {\"thread_id\": \"thread-1\"}}\n",
    "\n",
    "                system_message = SystemMessage(\n",
    "                    content=\"You are an AI assistant for completing Python notebooks.\"\n",
    "                )\n",
    "                human_message = HumanMessage(\n",
    "                    content=f\"Cell {idx}: {code}\\n\\nCheck for unwritten functions. If there are, search for context to use to fill in the bodies of those functions. If not, return the original code cell.\"\n",
    "                )\n",
    "                \n",
    "                inputs = {\"messages\": [system_message, human_message]}\n",
    "                \n",
    "                result = app.invoke(inputs, config)\n",
    "                print(\"cell: \", idx)\n",
    "                for output in app.stream(inputs, config):\n",
    "                    for key, value in output.items():\n",
    "                        print(f\"Output from node: '{key}':\")\n",
    "                        print(\"---\")\n",
    "                        print(value)\n",
    "                        print(\"\\n---\\n\")\n",
    "                \n",
    "                fixed_code = result[\"messages\"][-1].content\n",
    "                cell[\"source\"] = [fixed_code]\n",
    "            \n",
    "            processed_cells.append(cell)\n",
    "        elif cell[\"cell_type\"] == \"markdown\":\n",
    "            processed_cells.append(cell)\n",
    "\n",
    "    notebook_data[\"cells\"] = processed_cells\n",
    "\n",
    "    with open(output_path, \"w\") as f:\n",
    "        json.dump(notebook_data, f, indent=4)\n",
    "\n",
    "    print(f\"Updated notebook saved to {output_path}\")\n"
   ]
  },
  {
   "cell_type": "code",
   "execution_count": null,
   "metadata": {},
   "outputs": [],
   "source": []
  },
  {
   "cell_type": "code",
   "execution_count": 36,
   "metadata": {},
   "outputs": [
    {
     "name": "stderr",
     "output_type": "stream",
     "text": [
      "/var/folders/3h/z8r254ts5r58qphcnd1h46xw0000gn/T/ipykernel_65042/3636933104.py:5: LangGraphDeprecationWarning: ToolInvocation is deprecated as of version 0.2.0 and will be removed in 0.3.0. Use langgraph.prebuilt.ToolNode instead.\n",
      "  action = ToolInvocation(\n",
      "/var/folders/3h/z8r254ts5r58qphcnd1h46xw0000gn/T/ipykernel_65042/3636933104.py:5: LangGraphDeprecationWarning: ToolInvocation is deprecated as of version 0.2.0 and will be removed in 0.3.0. Use langgraph.prebuilt.ToolNode instead.\n",
      "  action = ToolInvocation(\n"
     ]
    },
    {
     "name": "stdout",
     "output_type": "stream",
     "text": [
      "cell:  1\n",
      "Output from node: 'agent':\n",
      "---\n",
      "{'messages': [AIMessage(content='', additional_kwargs={'function_call': {'arguments': '{\\n  \"input\": \"def convert_to_string(list): \\\\n    pass\"\\n}', 'name': 'check_for_unwritten_function'}}, response_metadata={'finish_reason': 'function_call'}, id='run-07c7f962-3b5e-410d-8a42-7b1419ba73ab-0')]}\n",
      "\n",
      "---\n",
      "\n",
      "Output from node: 'action':\n",
      "---\n",
      "{'messages': [FunctionMessage(content='Unwritten function: convert_to_string', additional_kwargs={}, response_metadata={}, name='check_for_unwritten_function')]}\n",
      "\n",
      "---\n",
      "\n"
     ]
    },
    {
     "name": "stderr",
     "output_type": "stream",
     "text": [
      "/var/folders/3h/z8r254ts5r58qphcnd1h46xw0000gn/T/ipykernel_65042/3636933104.py:5: LangGraphDeprecationWarning: ToolInvocation is deprecated as of version 0.2.0 and will be removed in 0.3.0. Use langgraph.prebuilt.ToolNode instead.\n",
      "  action = ToolInvocation(\n"
     ]
    },
    {
     "name": "stdout",
     "output_type": "stream",
     "text": [
      "Output from node: 'agent':\n",
      "---\n",
      "{'messages': [AIMessage(content='', additional_kwargs={'function_call': {'arguments': '{\\n  \"input\": \"convert_to_string\"\\n}', 'name': 'find_function_calls'}}, response_metadata={'finish_reason': 'function_call'}, id='run-3020eae0-a7b5-488b-a2b4-acaa21281473-0')]}\n",
      "\n",
      "---\n",
      "\n",
      "Output from node: 'action':\n",
      "---\n",
      "{'messages': [FunctionMessage(content='[\"def convert_to_string(list): \\\\n    pass\", \"nums = [1, 2, 3, 4, 5]\\\\nstrings = convert_to_string(nums)\"]', additional_kwargs={}, response_metadata={}, name='find_function_calls')]}\n",
      "\n",
      "---\n",
      "\n"
     ]
    },
    {
     "name": "stderr",
     "output_type": "stream",
     "text": [
      "/var/folders/3h/z8r254ts5r58qphcnd1h46xw0000gn/T/ipykernel_65042/3636933104.py:5: LangGraphDeprecationWarning: ToolInvocation is deprecated as of version 0.2.0 and will be removed in 0.3.0. Use langgraph.prebuilt.ToolNode instead.\n",
      "  action = ToolInvocation(\n"
     ]
    },
    {
     "name": "stdout",
     "output_type": "stream",
     "text": [
      "Output from node: 'agent':\n",
      "---\n",
      "{'messages': [AIMessage(content='The function `convert_to_string` is called in the following cell:\\n\\n```python\\nnums = [1, 2, 3, 4, 5]\\nstrings = convert_to_string(nums)\\n```', additional_kwargs={}, response_metadata={'finish_reason': 'stop'}, id='run-d6aad8f3-0f67-48fd-9a3f-6fdbd74936e8-0')]}\n",
      "\n",
      "---\n",
      "\n"
     ]
    },
    {
     "name": "stderr",
     "output_type": "stream",
     "text": [
      "/var/folders/3h/z8r254ts5r58qphcnd1h46xw0000gn/T/ipykernel_65042/3636933104.py:5: LangGraphDeprecationWarning: ToolInvocation is deprecated as of version 0.2.0 and will be removed in 0.3.0. Use langgraph.prebuilt.ToolNode instead.\n",
      "  action = ToolInvocation(\n"
     ]
    },
    {
     "name": "stdout",
     "output_type": "stream",
     "text": [
      "cell:  2\n",
      "Output from node: 'agent':\n",
      "---\n",
      "{'messages': [AIMessage(content='', additional_kwargs={'function_call': {'arguments': '{\\n  \"input\": \"nums = [1, 2, 3, 4, 5]\\\\nstrings = convert_to_string(nums)\"\\n}', 'name': 'check_for_unwritten_function'}}, response_metadata={'finish_reason': 'function_call'}, id='run-0d056d5a-95a8-4004-8e10-f80866134d0b-0')]}\n",
      "\n",
      "---\n",
      "\n",
      "Output from node: 'action':\n",
      "---\n",
      "{'messages': [FunctionMessage(content='', additional_kwargs={}, response_metadata={}, name='check_for_unwritten_function')]}\n",
      "\n",
      "---\n",
      "\n"
     ]
    },
    {
     "name": "stderr",
     "output_type": "stream",
     "text": [
      "/var/folders/3h/z8r254ts5r58qphcnd1h46xw0000gn/T/ipykernel_65042/3636933104.py:5: LangGraphDeprecationWarning: ToolInvocation is deprecated as of version 0.2.0 and will be removed in 0.3.0. Use langgraph.prebuilt.ToolNode instead.\n",
      "  action = ToolInvocation(\n"
     ]
    },
    {
     "name": "stdout",
     "output_type": "stream",
     "text": [
      "Output from node: 'agent':\n",
      "---\n",
      "{'messages': [AIMessage(content='{\\n  \"input\": \"def function1():\\\\n    pass\\\\n\\\\ndef function2():\\\\n    print(\\'Hello World\\')\\\\n\\\\ndef function3():\\\\n    # TODO: implement this function\\\\n    pass\\\\n\\\\ndef function4():\\\\n    # This function is complete\\\\n    return \\'Complete\\'\"\\n}\\n{\\n  \"unwritten_functions\": [\"function1\", \"function3\"]\\n}', additional_kwargs={}, response_metadata={'finish_reason': 'stop'}, id='run-bf41726e-26aa-4080-b87a-f10ddf305c63-0')]}\n",
      "\n",
      "---\n",
      "\n",
      "Updated notebook saved to ../test_data/fixed_test.ipynb\n"
     ]
    }
   ],
   "source": [
    "fix_notebook_code_cells(\"../test_data/test_book.ipynb\", \"../test_data/fixed_test.ipynb\")"
   ]
  },
  {
   "cell_type": "code",
   "execution_count": null,
   "metadata": {},
   "outputs": [],
   "source": []
  },
  {
   "cell_type": "code",
   "execution_count": null,
   "metadata": {},
   "outputs": [],
   "source": []
  },
  {
   "cell_type": "code",
   "execution_count": null,
   "metadata": {},
   "outputs": [],
   "source": []
  }
 ],
 "metadata": {
  "kernelspec": {
   "display_name": "Python 3 (ipykernel)",
   "language": "python",
   "name": "python3"
  },
  "language_info": {
   "codemirror_mode": {
    "name": "ipython",
    "version": 3
   },
   "file_extension": ".py",
   "mimetype": "text/x-python",
   "name": "python",
   "nbconvert_exporter": "python",
   "pygments_lexer": "ipython3",
   "version": "3.12.4"
  }
 },
 "nbformat": 4,
 "nbformat_minor": 4
}
