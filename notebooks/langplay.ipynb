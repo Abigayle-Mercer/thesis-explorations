{
 "cells": [
  {
   "cell_type": "code",
   "execution_count": 69,
   "metadata": {},
   "outputs": [],
   "source": [
    "from dotenv import load_dotenv\n",
    "from langchain.chat_models import ChatOpenAI\n",
    "from langchain.tools import BaseTool, Tool, tool\n",
    "from langgraph.graph import StateGraph, END\n",
    "from langchain_core.messages import SystemMessage, HumanMessage, BaseMessage, FunctionMessage\n",
    "from langgraph.checkpoint.memory import MemorySaver\n",
    "from langgraph.prebuilt.tool_executor import ToolExecutor\n",
    "from langgraph.prebuilt import ToolInvocation\n",
    "from langchain.tools import format_tool_to_openai_function\n",
    "from typing import TypedDict, Sequence\n",
    "\n",
    "\n",
    "\n",
    "\n",
    "import json\n",
    "\n",
    "import os\n",
    "\n",
    "load_dotenv()\n",
    "\n",
    "api_key = os.getenv(\"API_KEY\")"
   ]
  },
  {
   "cell_type": "code",
   "execution_count": 70,
   "metadata": {},
   "outputs": [],
   "source": [
    "llm = ChatOpenAI(model=\"gpt-4\", temperature=0)\n",
    "\n",
    "# Memory saver for the workflow\n",
    "memory = MemorySaver()\n",
    "config = {\"configurable\": {\"thread_id\": \"thread-1\"}}\n"
   ]
  },
  {
   "cell_type": "code",
   "execution_count": 71,
   "metadata": {},
   "outputs": [],
   "source": [
    "class AgentState(TypedDict):\n",
    "    messages: Sequence[BaseMessage]"
   ]
  },
  {
   "cell_type": "code",
   "execution_count": null,
   "metadata": {},
   "outputs": [],
   "source": []
  },
  {
   "cell_type": "code",
   "execution_count": null,
   "metadata": {},
   "outputs": [],
   "source": []
  },
  {
   "cell_type": "code",
   "execution_count": null,
   "metadata": {},
   "outputs": [],
   "source": []
  },
  {
   "cell_type": "code",
   "execution_count": null,
   "metadata": {},
   "outputs": [],
   "source": []
  },
  {
   "cell_type": "code",
   "execution_count": 72,
   "metadata": {},
   "outputs": [],
   "source": [
    "@tool(\"previous_cell\", return_direct=True)\n",
    "def previous_cell(input: str) -> str:\n",
    "    \"\"\"Fetch the content of the previous cell given its index.\"\"\"\n",
    "    try:\n",
    "        idx = int(input)\n",
    "        with open(\"../test_data/test_book.ipynb\", \"r\") as f:\n",
    "            notebook_data = json.load(f)\n",
    "            cells = notebook_data.get(\"cells\", [])\n",
    "            if 0 <= idx < len(cells) and cells[idx][\"cell_type\"] == \"code\":\n",
    "                return \"\".join(cells[idx][\"source\"]).strip()\n",
    "            return \"No code found or invalid index.\"\n",
    "    except Exception as e:\n",
    "        return f\"Error fetching previous cell: {str(e)}\""
   ]
  },
  {
   "cell_type": "code",
   "execution_count": 73,
   "metadata": {},
   "outputs": [],
   "source": [
    "@tool(\"check_for_unwritten_function\", return_direct=True)\n",
    "def check_for_unwritten_function(input: str) -> str:\n",
    "    \"\"\"\n",
    "    Given code from a cell, inspect for any function without a body (e.g., 'pass' or empty).\n",
    "    Return the name of the function, or \"\" if all functions are complete.\n",
    "    \"\"\"\n",
    "    import ast\n",
    "    try:\n",
    "        tree = ast.parse(input)\n",
    "        for node in tree.body:\n",
    "            if isinstance(node, ast.FunctionDef) and isinstance(node.body[0], ast.Pass):\n",
    "                return node.name  # Function name\n",
    "        return \"\"  # No unwritten functions\n",
    "    except Exception as e:\n",
    "        return f\"Error analyzing code: {str(e)}\"\n"
   ]
  },
  {
   "cell_type": "code",
   "execution_count": 74,
   "metadata": {},
   "outputs": [],
   "source": [
    "@tool(\"find_function_calls\", return_direct=True)\n",
    "def find_function_calls(input: str) -> str:\n",
    "    \"\"\"Find all cells in the notebook where the given function is called. Returns a list of cell content.\"\"\"\n",
    "    try:\n",
    "        func_name, idx = input.split(\"|\")\n",
    "        idx = int(idx)\n",
    "        with open(\"../test_data/test_book.ipynb\", \"r\") as f:\n",
    "            notebook_data = json.load(f)\n",
    "            cells = notebook_data.get(\"cells\", [])\n",
    "            return json.dumps(\n",
    "                [\n",
    "                    \"\".join(cell[\"source\"])\n",
    "                    for cell in cells\n",
    "                    if cell[\"cell_type\"] == \"code\" and func_name in \"\".join(cell[\"source\"])\n",
    "                ]\n",
    "            )\n",
    "    except Exception as e:\n",
    "        return f\"Error searching for function calls: {str(e)}\"\n"
   ]
  },
  {
   "cell_type": "code",
   "execution_count": 75,
   "metadata": {},
   "outputs": [
    {
     "name": "stderr",
     "output_type": "stream",
     "text": [
      "/var/folders/3h/z8r254ts5r58qphcnd1h46xw0000gn/T/ipykernel_49106/2327283001.py:2: LangGraphDeprecationWarning: ToolExecutor is deprecated as of version 0.2.0 and will be removed in 0.3.0. Use langgraph.prebuilt.ToolNode instead.\n",
      "  tool_executer = ToolExecutor(tools)\n"
     ]
    }
   ],
   "source": [
    "tools = [previous_cell, check_for_unwritten_function, find_function_calls]\n",
    "tool_executer = ToolExecutor(tools)\n",
    "functions = [format_tool_to_openai_function(t) for t in tools]\n",
    "model = llm.bind_functions(functions)"
   ]
  },
  {
   "cell_type": "code",
   "execution_count": 76,
   "metadata": {},
   "outputs": [],
   "source": [
    "def agent(state):\n",
    "    messages = state['messages']\n",
    "    response = model.invoke(messages)\n",
    "    return {\"messages\": [response]}"
   ]
  },
  {
   "cell_type": "code",
   "execution_count": 77,
   "metadata": {},
   "outputs": [],
   "source": [
    "def should_continue(state):\n",
    "    messages = state[\"messages\"]\n",
    "    last_message = messages[-1]\n",
    "    if \"function_call\" not in last_message.additional_kwargs:\n",
    "        return \"end\"\n",
    "    else: \n",
    "        return \"continue\""
   ]
  },
  {
   "cell_type": "code",
   "execution_count": 78,
   "metadata": {},
   "outputs": [],
   "source": [
    "def call_tool(state):\n",
    "    messages = state[\"messages\"]\n",
    "    last_message = messages[-1]\n",
    "\n",
    "    action = ToolInvocation(\n",
    "        tool = last_message.additional_kwargs[\"function_call\"][\"name\"],\n",
    "        tool_input = json.loads(last_message.additional_kwargs[\"function_call\"][\"arguments\"]))\n",
    "\n",
    "    response = tool_executer.invoke(action)\n",
    "    function_message = FunctionMessage(content=str(response), name = action.tool)\n",
    "    return {\"messages\": [function_message]}"
   ]
  },
  {
   "cell_type": "code",
   "execution_count": 79,
   "metadata": {},
   "outputs": [],
   "source": [
    "workflow = StateGraph(AgentState)\n",
    "\n",
    "workflow.add_node(\"agent\", agent)\n",
    "workflow.add_node(\"action\", call_tool)\n",
    "\n",
    "workflow.set_entry_point(\"agent\")\n",
    "\n",
    "workflow.add_conditional_edges(\"agent\", should_continue, { \"continue\": \"action\", \"end\": END})\n",
    "\n",
    "workflow.add_edge(\"action\", \"agent\")\n",
    "\n",
    "app = workflow.compile(checkpointer = memory)"
   ]
  },
  {
   "cell_type": "code",
   "execution_count": 82,
   "metadata": {},
   "outputs": [],
   "source": [
    "def fix_notebook_code_cells(input_path, output_path):\n",
    "    with open(input_path, \"r\") as f:\n",
    "        notebook_data = json.load(f)\n",
    "\n",
    "    cells = notebook_data.get(\"cells\", [])\n",
    "    processed_cells = []\n",
    "\n",
    "    for idx, cell in enumerate(cells):\n",
    "        if cell[\"cell_type\"] == \"code\":\n",
    "            code = \"\".join(cell.get(\"source\", \"\")).strip()\n",
    "            if code:\n",
    "                system_message = SystemMessage(\n",
    "                    content=\"You are an AI assistant for completing Python notebooks.\"\n",
    "                )\n",
    "                human_message = HumanMessage(\n",
    "                    content=f\"Cell {idx}: {code}\\n\\nCheck for unwritten functions and fix them.\"\n",
    "                )\n",
    "                \n",
    "                inputs = {\"messages\": [system_message, human_message]}\n",
    "                \n",
    "                result = app.invoke(inputs)\n",
    "                for output in app.stream(inputs, config):\n",
    "                    for key, value in output.items():\n",
    "                        print(f\"Output from node: '{key}':\")\n",
    "                        print(\"---\")\n",
    "                        print(value)\n",
    "                        print(\"\\n---\\n\")\n",
    "                \n",
    "                fixed_code = result[\"messages\"][-1].content\n",
    "                cell[\"source\"] = [fixed_code]\n",
    "            \n",
    "            processed_cells.append(cell)\n",
    "        elif cell[\"cell_type\"] == \"markdown\":\n",
    "            processed_cells.append(cell)\n",
    "\n",
    "    notebook_data[\"cells\"] = processed_cells\n",
    "\n",
    "    with open(output_path, \"w\") as f:\n",
    "        json.dump(notebook_data, f, indent=4)\n",
    "\n",
    "    print(f\"Updated notebook saved to {output_path}\")\n"
   ]
  },
  {
   "cell_type": "code",
   "execution_count": null,
   "metadata": {},
   "outputs": [],
   "source": []
  },
  {
   "cell_type": "code",
   "execution_count": 83,
   "metadata": {},
   "outputs": [
    {
     "ename": "ValueError",
     "evalue": "Checkpointer requires one or more of the following 'configurable' keys: ['thread_id', 'checkpoint_ns', 'checkpoint_id']",
     "output_type": "error",
     "traceback": [
      "\u001b[0;31m---------------------------------------------------------------------------\u001b[0m",
      "\u001b[0;31mValueError\u001b[0m                                Traceback (most recent call last)",
      "Cell \u001b[0;32mIn[83], line 1\u001b[0m\n\u001b[0;32m----> 1\u001b[0m \u001b[43mfix_notebook_code_cells\u001b[49m\u001b[43m(\u001b[49m\u001b[38;5;124;43m\"\u001b[39;49m\u001b[38;5;124;43m../test_data/test_book.ipynb\u001b[39;49m\u001b[38;5;124;43m\"\u001b[39;49m\u001b[43m,\u001b[49m\u001b[43m \u001b[49m\u001b[38;5;124;43m\"\u001b[39;49m\u001b[38;5;124;43m../test_data/fixed_test.ipynb\u001b[39;49m\u001b[38;5;124;43m\"\u001b[39;49m\u001b[43m)\u001b[49m\n",
      "Cell \u001b[0;32mIn[82], line 21\u001b[0m, in \u001b[0;36mfix_notebook_code_cells\u001b[0;34m(input_path, output_path)\u001b[0m\n\u001b[1;32m     15\u001b[0m human_message \u001b[38;5;241m=\u001b[39m HumanMessage(\n\u001b[1;32m     16\u001b[0m     content\u001b[38;5;241m=\u001b[39m\u001b[38;5;124mf\u001b[39m\u001b[38;5;124m\"\u001b[39m\u001b[38;5;124mCell \u001b[39m\u001b[38;5;132;01m{\u001b[39;00midx\u001b[38;5;132;01m}\u001b[39;00m\u001b[38;5;124m: \u001b[39m\u001b[38;5;132;01m{\u001b[39;00mcode\u001b[38;5;132;01m}\u001b[39;00m\u001b[38;5;130;01m\\n\u001b[39;00m\u001b[38;5;130;01m\\n\u001b[39;00m\u001b[38;5;124mCheck for unwritten functions and fix them.\u001b[39m\u001b[38;5;124m\"\u001b[39m\n\u001b[1;32m     17\u001b[0m )\n\u001b[1;32m     19\u001b[0m inputs \u001b[38;5;241m=\u001b[39m {\u001b[38;5;124m\"\u001b[39m\u001b[38;5;124mmessages\u001b[39m\u001b[38;5;124m\"\u001b[39m: [system_message, human_message]}\n\u001b[0;32m---> 21\u001b[0m result \u001b[38;5;241m=\u001b[39m \u001b[43mapp\u001b[49m\u001b[38;5;241;43m.\u001b[39;49m\u001b[43minvoke\u001b[49m\u001b[43m(\u001b[49m\u001b[43minputs\u001b[49m\u001b[43m)\u001b[49m\n\u001b[1;32m     22\u001b[0m \u001b[38;5;28;01mfor\u001b[39;00m output \u001b[38;5;129;01min\u001b[39;00m app\u001b[38;5;241m.\u001b[39mstream(inputs, config):\n\u001b[1;32m     23\u001b[0m     \u001b[38;5;28;01mfor\u001b[39;00m key, value \u001b[38;5;129;01min\u001b[39;00m output\u001b[38;5;241m.\u001b[39mitems():\n",
      "File \u001b[0;32m~/Desktop/Masters/thesis-explorations/thesis-explorations/venv/lib/python3.12/site-packages/langgraph/pregel/__init__.py:1961\u001b[0m, in \u001b[0;36mPregel.invoke\u001b[0;34m(self, input, config, stream_mode, output_keys, interrupt_before, interrupt_after, debug, **kwargs)\u001b[0m\n\u001b[1;32m   1959\u001b[0m \u001b[38;5;28;01melse\u001b[39;00m:\n\u001b[1;32m   1960\u001b[0m     chunks \u001b[38;5;241m=\u001b[39m []\n\u001b[0;32m-> 1961\u001b[0m \u001b[43m\u001b[49m\u001b[38;5;28;43;01mfor\u001b[39;49;00m\u001b[43m \u001b[49m\u001b[43mchunk\u001b[49m\u001b[43m \u001b[49m\u001b[38;5;129;43;01min\u001b[39;49;00m\u001b[43m \u001b[49m\u001b[38;5;28;43mself\u001b[39;49m\u001b[38;5;241;43m.\u001b[39;49m\u001b[43mstream\u001b[49m\u001b[43m(\u001b[49m\n\u001b[1;32m   1962\u001b[0m \u001b[43m    \u001b[49m\u001b[38;5;28;43minput\u001b[39;49m\u001b[43m,\u001b[49m\n\u001b[1;32m   1963\u001b[0m \u001b[43m    \u001b[49m\u001b[43mconfig\u001b[49m\u001b[43m,\u001b[49m\n\u001b[1;32m   1964\u001b[0m \u001b[43m    \u001b[49m\u001b[43mstream_mode\u001b[49m\u001b[38;5;241;43m=\u001b[39;49m\u001b[43mstream_mode\u001b[49m\u001b[43m,\u001b[49m\n\u001b[1;32m   1965\u001b[0m \u001b[43m    \u001b[49m\u001b[43moutput_keys\u001b[49m\u001b[38;5;241;43m=\u001b[39;49m\u001b[43moutput_keys\u001b[49m\u001b[43m,\u001b[49m\n\u001b[1;32m   1966\u001b[0m \u001b[43m    \u001b[49m\u001b[43minterrupt_before\u001b[49m\u001b[38;5;241;43m=\u001b[39;49m\u001b[43minterrupt_before\u001b[49m\u001b[43m,\u001b[49m\n\u001b[1;32m   1967\u001b[0m \u001b[43m    \u001b[49m\u001b[43minterrupt_after\u001b[49m\u001b[38;5;241;43m=\u001b[39;49m\u001b[43minterrupt_after\u001b[49m\u001b[43m,\u001b[49m\n\u001b[1;32m   1968\u001b[0m \u001b[43m    \u001b[49m\u001b[43mdebug\u001b[49m\u001b[38;5;241;43m=\u001b[39;49m\u001b[43mdebug\u001b[49m\u001b[43m,\u001b[49m\n\u001b[1;32m   1969\u001b[0m \u001b[43m    \u001b[49m\u001b[38;5;241;43m*\u001b[39;49m\u001b[38;5;241;43m*\u001b[39;49m\u001b[43mkwargs\u001b[49m\u001b[43m,\u001b[49m\n\u001b[1;32m   1970\u001b[0m \u001b[43m\u001b[49m\u001b[43m)\u001b[49m\u001b[43m:\u001b[49m\n\u001b[1;32m   1971\u001b[0m \u001b[43m    \u001b[49m\u001b[38;5;28;43;01mif\u001b[39;49;00m\u001b[43m \u001b[49m\u001b[43mstream_mode\u001b[49m\u001b[43m \u001b[49m\u001b[38;5;241;43m==\u001b[39;49m\u001b[43m \u001b[49m\u001b[38;5;124;43m\"\u001b[39;49m\u001b[38;5;124;43mvalues\u001b[39;49m\u001b[38;5;124;43m\"\u001b[39;49m\u001b[43m:\u001b[49m\n\u001b[1;32m   1972\u001b[0m \u001b[43m        \u001b[49m\u001b[43mlatest\u001b[49m\u001b[43m \u001b[49m\u001b[38;5;241;43m=\u001b[39;49m\u001b[43m \u001b[49m\u001b[43mchunk\u001b[49m\n",
      "File \u001b[0;32m~/Desktop/Masters/thesis-explorations/thesis-explorations/venv/lib/python3.12/site-packages/langgraph/pregel/__init__.py:1590\u001b[0m, in \u001b[0;36mPregel.stream\u001b[0;34m(self, input, config, stream_mode, output_keys, interrupt_before, interrupt_after, debug, subgraphs)\u001b[0m\n\u001b[1;32m   1574\u001b[0m run_manager \u001b[38;5;241m=\u001b[39m callback_manager\u001b[38;5;241m.\u001b[39mon_chain_start(\n\u001b[1;32m   1575\u001b[0m     \u001b[38;5;28;01mNone\u001b[39;00m,\n\u001b[1;32m   1576\u001b[0m     \u001b[38;5;28minput\u001b[39m,\n\u001b[1;32m   1577\u001b[0m     name\u001b[38;5;241m=\u001b[39mconfig\u001b[38;5;241m.\u001b[39mget(\u001b[38;5;124m\"\u001b[39m\u001b[38;5;124mrun_name\u001b[39m\u001b[38;5;124m\"\u001b[39m, \u001b[38;5;28mself\u001b[39m\u001b[38;5;241m.\u001b[39mget_name()),\n\u001b[1;32m   1578\u001b[0m     run_id\u001b[38;5;241m=\u001b[39mconfig\u001b[38;5;241m.\u001b[39mget(\u001b[38;5;124m\"\u001b[39m\u001b[38;5;124mrun_id\u001b[39m\u001b[38;5;124m\"\u001b[39m),\n\u001b[1;32m   1579\u001b[0m )\n\u001b[1;32m   1580\u001b[0m \u001b[38;5;28;01mtry\u001b[39;00m:\n\u001b[1;32m   1581\u001b[0m     \u001b[38;5;66;03m# assign defaults\u001b[39;00m\n\u001b[1;32m   1582\u001b[0m     (\n\u001b[1;32m   1583\u001b[0m         debug,\n\u001b[1;32m   1584\u001b[0m         stream_modes,\n\u001b[1;32m   1585\u001b[0m         output_keys,\n\u001b[1;32m   1586\u001b[0m         interrupt_before_,\n\u001b[1;32m   1587\u001b[0m         interrupt_after_,\n\u001b[1;32m   1588\u001b[0m         checkpointer,\n\u001b[1;32m   1589\u001b[0m         store,\n\u001b[0;32m-> 1590\u001b[0m     ) \u001b[38;5;241m=\u001b[39m \u001b[38;5;28;43mself\u001b[39;49m\u001b[38;5;241;43m.\u001b[39;49m\u001b[43m_defaults\u001b[49m\u001b[43m(\u001b[49m\n\u001b[1;32m   1591\u001b[0m \u001b[43m        \u001b[49m\u001b[43mconfig\u001b[49m\u001b[43m,\u001b[49m\n\u001b[1;32m   1592\u001b[0m \u001b[43m        \u001b[49m\u001b[43mstream_mode\u001b[49m\u001b[38;5;241;43m=\u001b[39;49m\u001b[43mstream_mode\u001b[49m\u001b[43m,\u001b[49m\n\u001b[1;32m   1593\u001b[0m \u001b[43m        \u001b[49m\u001b[43moutput_keys\u001b[49m\u001b[38;5;241;43m=\u001b[39;49m\u001b[43moutput_keys\u001b[49m\u001b[43m,\u001b[49m\n\u001b[1;32m   1594\u001b[0m \u001b[43m        \u001b[49m\u001b[43minterrupt_before\u001b[49m\u001b[38;5;241;43m=\u001b[39;49m\u001b[43minterrupt_before\u001b[49m\u001b[43m,\u001b[49m\n\u001b[1;32m   1595\u001b[0m \u001b[43m        \u001b[49m\u001b[43minterrupt_after\u001b[49m\u001b[38;5;241;43m=\u001b[39;49m\u001b[43minterrupt_after\u001b[49m\u001b[43m,\u001b[49m\n\u001b[1;32m   1596\u001b[0m \u001b[43m        \u001b[49m\u001b[43mdebug\u001b[49m\u001b[38;5;241;43m=\u001b[39;49m\u001b[43mdebug\u001b[49m\u001b[43m,\u001b[49m\n\u001b[1;32m   1597\u001b[0m \u001b[43m    \u001b[49m\u001b[43m)\u001b[49m\n\u001b[1;32m   1598\u001b[0m     \u001b[38;5;66;03m# set up subgraph checkpointing\u001b[39;00m\n\u001b[1;32m   1599\u001b[0m     \u001b[38;5;28;01mif\u001b[39;00m \u001b[38;5;28mself\u001b[39m\u001b[38;5;241m.\u001b[39mcheckpointer \u001b[38;5;129;01mis\u001b[39;00m \u001b[38;5;28;01mTrue\u001b[39;00m:\n",
      "File \u001b[0;32m~/Desktop/Masters/thesis-explorations/thesis-explorations/venv/lib/python3.12/site-packages/langgraph/pregel/__init__.py:1458\u001b[0m, in \u001b[0;36mPregel._defaults\u001b[0;34m(self, config, stream_mode, output_keys, interrupt_before, interrupt_after, debug)\u001b[0m\n\u001b[1;32m   1456\u001b[0m     checkpointer \u001b[38;5;241m=\u001b[39m \u001b[38;5;28mself\u001b[39m\u001b[38;5;241m.\u001b[39mcheckpointer\n\u001b[1;32m   1457\u001b[0m \u001b[38;5;28;01mif\u001b[39;00m checkpointer \u001b[38;5;129;01mand\u001b[39;00m \u001b[38;5;129;01mnot\u001b[39;00m config\u001b[38;5;241m.\u001b[39mget(CONF):\n\u001b[0;32m-> 1458\u001b[0m     \u001b[38;5;28;01mraise\u001b[39;00m \u001b[38;5;167;01mValueError\u001b[39;00m(\n\u001b[1;32m   1459\u001b[0m         \u001b[38;5;124mf\u001b[39m\u001b[38;5;124m\"\u001b[39m\u001b[38;5;124mCheckpointer requires one or more of the following \u001b[39m\u001b[38;5;124m'\u001b[39m\u001b[38;5;124mconfigurable\u001b[39m\u001b[38;5;124m'\u001b[39m\u001b[38;5;124m keys: \u001b[39m\u001b[38;5;132;01m{\u001b[39;00m[s\u001b[38;5;241m.\u001b[39mid\u001b[38;5;250m \u001b[39m\u001b[38;5;28;01mfor\u001b[39;00m\u001b[38;5;250m \u001b[39ms\u001b[38;5;250m \u001b[39m\u001b[38;5;129;01min\u001b[39;00m\u001b[38;5;250m \u001b[39mcheckpointer\u001b[38;5;241m.\u001b[39mconfig_specs]\u001b[38;5;132;01m}\u001b[39;00m\u001b[38;5;124m\"\u001b[39m\n\u001b[1;32m   1460\u001b[0m     )\n\u001b[1;32m   1461\u001b[0m \u001b[38;5;28;01mif\u001b[39;00m CONFIG_KEY_STORE \u001b[38;5;129;01min\u001b[39;00m config\u001b[38;5;241m.\u001b[39mget(CONF, {}):\n\u001b[1;32m   1462\u001b[0m     store: Optional[BaseStore] \u001b[38;5;241m=\u001b[39m config[CONF][CONFIG_KEY_STORE]\n",
      "\u001b[0;31mValueError\u001b[0m: Checkpointer requires one or more of the following 'configurable' keys: ['thread_id', 'checkpoint_ns', 'checkpoint_id']"
     ]
    }
   ],
   "source": [
    "fix_notebook_code_cells(\"../test_data/test_book.ipynb\", \"../test_data/fixed_test.ipynb\")"
   ]
  },
  {
   "cell_type": "code",
   "execution_count": null,
   "metadata": {},
   "outputs": [],
   "source": []
  },
  {
   "cell_type": "code",
   "execution_count": null,
   "metadata": {},
   "outputs": [],
   "source": []
  }
 ],
 "metadata": {
  "kernelspec": {
   "display_name": "Python 3 (ipykernel)",
   "language": "python",
   "name": "python3"
  },
  "language_info": {
   "codemirror_mode": {
    "name": "ipython",
    "version": 3
   },
   "file_extension": ".py",
   "mimetype": "text/x-python",
   "name": "python",
   "nbconvert_exporter": "python",
   "pygments_lexer": "ipython3",
   "version": "3.12.4"
  }
 },
 "nbformat": 4,
 "nbformat_minor": 4
}
