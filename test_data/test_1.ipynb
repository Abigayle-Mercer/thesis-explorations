{
 "cells": [
  {
   "cell_type": "code",
   "execution_count": 52,
   "id": "2e9b53b1-2309-4a34-9ea8-405edcdb1d95",
   "metadata": {},
   "outputs": [],
   "source": [
    "import math"
   ]
  },
  {
   "cell_type": "code",
   "execution_count": 53,
   "id": "795e1f7b-7946-4d81-b754-f453e28e723d",
   "metadata": {},
   "outputs": [],
   "source": [
    "def square_root(num): \n",
    "\n",
    "    return math.sqrt(abs(num))\n",
    "\n",
    "def square(num): \n",
    "    return num * num"
   ]
  },
  {
   "cell_type": "code",
   "execution_count": 54,
   "id": "5a19edfc-9faf-48bc-a77a-0ac6c7c3b81e",
   "metadata": {},
   "outputs": [],
   "source": [
    "def divide(a, b): \n",
    "    return a / b"
   ]
  },
  {
   "cell_type": "code",
   "execution_count": 55,
   "id": "785620e0-f6da-46a8-9277-cb84ee759c5d",
   "metadata": {},
   "outputs": [],
   "source": [
    "def quadratic_formula(a, b, c): \n",
    "    x1 = divide(-b - square_root(square(b) - 4 * a * c), 2 * a)\n",
    "    x2 = divide(-b + square_root(square(b) - 4 * a * c), 2 * a)\n",
    "    return [x1, x2]"
   ]
  },
  {
   "cell_type": "code",
   "execution_count": 56,
   "id": "c2a78c25-b38d-4542-8c4a-064d17442274",
   "metadata": {},
   "outputs": [],
   "source": [
    "a = 3\n",
    "b = 8\n",
    "c = 4\n",
    "\n",
    "solutions = quadratic_formula(a, b, c)"
   ]
  },
  {
   "cell_type": "code",
   "execution_count": 57,
   "id": "0a9d694f-a310-49b9-a428-f737c63f9f56",
   "metadata": {},
   "outputs": [
    {
     "name": "stderr",
     "output_type": "stream",
     "text": [
      ".\n",
      "----------------------------------------------------------------------\n",
      "Ran 1 test in 0.001s\n",
      "\n",
      "OK\n"
     ]
    }
   ],
   "source": [
    "import unittest\n",
    "import math\n",
    "\n",
    "class TestQuadraticFormula(unittest.TestCase):\n",
    "    def test_solutions(self):\n",
    "        expected_x1 = -2\n",
    "        expected_x2 = -0.666666666\n",
    "\n",
    "        self.assertAlmostEqual(solutions[0], expected_x1, places=5, msg=\"x1 is incorrect\")\n",
    "        self.assertAlmostEqual(solutions[1], expected_x2, places=5, msg=\"x2 is incorrect\")\n",
    "\n",
    "# Run the test\n",
    "if __name__ == \"__main__\":\n",
    "    unittest.main(argv=[''], exit=False)"
   ]
  }
 ],
 "metadata": {
  "kernelspec": {
   "display_name": "Python 3 (ipykernel)",
   "language": "python",
   "name": "python3"
  },
  "language_info": {
   "codemirror_mode": {
    "name": "ipython",
    "version": 3
   },
   "file_extension": ".py",
   "mimetype": "text/x-python",
   "name": "python",
   "nbconvert_exporter": "python",
   "pygments_lexer": "ipython3",
   "version": "3.12.4"
  }
 },
 "nbformat": 4,
 "nbformat_minor": 5
}
