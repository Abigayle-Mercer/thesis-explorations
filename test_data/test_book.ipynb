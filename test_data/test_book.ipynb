{
 "cells": [
  {
   "cell_type": "code",
   "execution_count": null,
   "id": "27ed5c2b-118d-40f4-ad8a-5d70d6230ede",
   "metadata": {},
   "outputs": [],
   "source": []
  },
  {
   "cell_type": "code",
   "execution_count": null,
   "id": "d46a2f0a-4367-495b-b972-c32166d28b9a",
   "metadata": {},
   "outputs": [],
   "source": [
    "nums = [1, 2, 3, 4, 5]"
   ]
  },
  {
   "cell_type": "code",
   "execution_count": null,
   "id": "35e5228b-b6f3-43cc-8111-e2e95ec05447",
   "metadata": {},
   "outputs": [],
   "source": [
    "def convert_to_string(list): \n",
    "    "
   ]
  },
  {
   "cell_type": "code",
   "execution_count": 1,
   "id": "599d8d2d-209d-48c1-9931-f8851f531c24",
   "metadata": {},
   "outputs": [
    {
     "ename": "NameError",
     "evalue": "name 'convert_to_string' is not defined",
     "output_type": "error",
     "traceback": [
      "\u001b[0;31m---------------------------------------------------------------------------\u001b[0m",
      "\u001b[0;31mNameError\u001b[0m                                 Traceback (most recent call last)",
      "Cell \u001b[0;32mIn[1], line 1\u001b[0m\n\u001b[0;32m----> 1\u001b[0m strings \u001b[38;5;241m=\u001b[39m \u001b[43mconvert_to_string\u001b[49m(nums)\n",
      "\u001b[0;31mNameError\u001b[0m: name 'convert_to_string' is not defined"
     ]
    }
   ],
   "source": [
    "strings = convert_to_string(nums)"
   ]
  },
  {
   "cell_type": "code",
   "execution_count": null,
   "id": "df66947b-24b7-494b-ae88-6669e3b7f4e1",
   "metadata": {},
   "outputs": [],
   "source": [
    "for x in string: \n",
    "    print(x)"
   ]
  }
 ],
 "metadata": {
  "kernelspec": {
   "display_name": "Python 3 (ipykernel)",
   "language": "python",
   "name": "python3"
  },
  "language_info": {
   "codemirror_mode": {
    "name": "ipython",
    "version": 3
   },
   "file_extension": ".py",
   "mimetype": "text/x-python",
   "name": "python",
   "nbconvert_exporter": "python",
   "pygments_lexer": "ipython3",
   "version": "3.12.4"
  }
 },
 "nbformat": 4,
 "nbformat_minor": 5
}
