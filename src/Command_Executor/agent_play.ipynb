{
 "cells": [
  {
   "cell_type": "code",
   "execution_count": 8,
   "metadata": {},
   "outputs": [],
   "source": [
    "from dotenv import load_dotenv\n",
    "from langchain.tools import BaseTool, Tool, tool\n",
    "from langgraph.graph import StateGraph, END\n",
    "from langchain_core.messages import SystemMessage, HumanMessage, BaseMessage, FunctionMessage\n",
    "from langgraph.checkpoint.memory import MemorySaver\n",
    "from langgraph.prebuilt.tool_executor import ToolExecutor\n",
    "from langgraph.prebuilt import ToolInvocation\n",
    "from typing import TypedDict, Sequence\n",
    "from langchain_community.chat_models import ChatOpenAI\n",
    "from langchain_community.tools import format_tool_to_openai_function\n",
    "from langchain_openai import ChatOpenAI\n",
    "import re\n",
    "from agent import get_agent, load_command_schemas\n",
    "import json\n",
    "\n",
    "import os"
   ]
  },
  {
   "cell_type": "code",
   "execution_count": 9,
   "metadata": {},
   "outputs": [
    {
     "name": "stdout",
     "output_type": "stream",
     "text": [
      "LAST MESSAGE:  I'm sorry, but the JupyterLab commands do not support running a specific cell by its relative position. You can only run the currently selected cell, all cells, or restart the kernel and run all cells.\n",
      "Failed to parse JSON. Returning empty object.\n",
      "RESULT:  {}\n"
     ]
    }
   ],
   "source": [
    "commands = load_command_schemas(\"command_schemas.json\")\n",
    "system_message = SystemMessage(\n",
    "        content=f\"\"\"You are an agent designed to take natural language prompts, infer intent, and map that intent\n",
    "        to corresponding JupyterLab commands in JSON structure, following the correct execution order.\n",
    "\n",
    "        Below is a list of valid JupyterLab commands. Each command includes:\n",
    "          - A **title** (short name)\n",
    "          - A **description** (what it does)\n",
    "          - **Example phrases** (possible user inputs)\n",
    "          - The **expected JSON structure** to execute the command\n",
    "\n",
    "        Reference this list when constructing valid JupyterLab command responses:\n",
    "        ```json\n",
    "        {json.dumps(commands, indent=2)}\n",
    "        ```\n",
    "        Ensure that all responses strictly follow the JSON schema definitions.\n",
    "        \"\"\"\n",
    "    )\n",
    "    # User message\n",
    "human_message = HumanMessage(content=\"Run the cell 3 cells above this\")\n",
    "\n",
    "    # Run agent\n",
    "config = {\"configurable\": {\"thread_id\": \"thread-1\"}}\n",
    "inputs = {\"messages\": [system_message, human_message]}\n",
    "app = get_agent()\n",
    "    \n",
    "    # Extract last agent message (already a Python object, no need to parse)\n",
    "result = app.invoke(inputs, config)[\"messages\"][-1] \n",
    "print(\"RESULT: \", result) "
   ]
  },
  {
   "cell_type": "code",
   "execution_count": 7,
   "metadata": {},
   "outputs": [],
   "source": [
    "\n",
    "# Load environment variables\n",
    "load_dotenv()\n",
    "api_key = os.getenv(\"OPENAI_API_KEY\")\n",
    "os.environ[\"OPENAI_API_KEY\"] = api_key\n",
    "\n",
    "# Set up LLM\n",
    "llm = ChatOpenAI(api_key=api_key, model=\"gpt-4\", temperature=0, streaming=True)\n",
    "\n",
    "COMMANDS_FILE = \"commands.txt\"\n",
    "config = {\"configurable\": {\"thread_id\": \"thread-1\"}}\n",
    "\n"
   ]
  },
  {
   "cell_type": "code",
   "execution_count": 276,
   "metadata": {},
   "outputs": [],
   "source": [
    "\n",
    "# Memory saver for workflow\n",
    "memory = MemorySaver()\n",
    "\n",
    "class AgentState(TypedDict):\n",
    "    messages: Sequence[BaseMessage]\n"
   ]
  },
  {
   "cell_type": "code",
   "execution_count": 277,
   "metadata": {},
   "outputs": [],
   "source": [
    "# Load command schema from a JSON file\n",
    "def load_command_schemas(file_path=\"command_schemas.json\"):\n",
    "    \"\"\"Load the available command schemas from a JSON file.\"\"\"\n",
    "    with open(file_path, \"r\") as file:\n",
    "        return json.load(file)\n"
   ]
  },
  {
   "cell_type": "code",
   "execution_count": 278,
   "metadata": {},
   "outputs": [
    {
     "name": "stderr",
     "output_type": "stream",
     "text": [
      "/var/folders/3h/z8r254ts5r58qphcnd1h46xw0000gn/T/ipykernel_34024/912262656.py:2: LangGraphDeprecationWarning: ToolExecutor is deprecated as of version 0.2.0 and will be removed in 0.3.0. Use langgraph.prebuilt.ToolNode instead.\n",
      "  tool_executor = ToolExecutor(tools)\n"
     ]
    }
   ],
   "source": [
    "tools = []\n",
    "tool_executor = ToolExecutor(tools)\n",
    "functions = [format_tool_to_openai_function(t) for t in tools]\n",
    "model = llm"
   ]
  },
  {
   "cell_type": "code",
   "execution_count": 279,
   "metadata": {},
   "outputs": [],
   "source": [
    "\n",
    "def agent(state):\n",
    "    messages = state[\"messages\"]\n",
    "    response = model.invoke(messages)\n",
    "    return {\"messages\": messages + [response]}\n",
    "\n",
    "\n",
    "def should_continue(state):\n",
    "    last_message = state[\"messages\"][-1]\n",
    "    return \"continue\" if \"function_call\" in last_message.additional_kwargs else \"end\"\n",
    "\n",
    "def call_tool(state):\n",
    "    messages = state[\"messages\"]\n",
    "    last_message = messages[-1]\n",
    "\n",
    "    action = ToolInvocation(\n",
    "        tool=last_message.additional_kwargs[\"function_call\"][\"name\"],\n",
    "        tool_input={**json.loads(last_message.additional_kwargs[\"function_call\"][\"arguments\"])}\n",
    "    )\n",
    "\n",
    "    response = tool_executor.invoke(action)  # Fix typo here, should be `tool_executor`\n",
    "    function_message = FunctionMessage(content=str(response), name=action.tool)\n",
    "    return {\"messages\": messages + [function_message]}\n"
   ]
  },
  {
   "cell_type": "code",
   "execution_count": 280,
   "metadata": {},
   "outputs": [],
   "source": [
    "def extract_json(state):\n",
    "    \"\"\"Extracts the JSON command from the agent's response.\"\"\"\n",
    "    messages = state[\"messages\"]\n",
    "    last_message = messages[-1].content  # Get the latest response from the agent\n",
    "\n",
    "    # Extract JSON using regex (handles multiple formats)\n",
    "    match = re.search(r'```json\\n(.*?)\\n```', last_message, re.DOTALL)\n",
    "    if match:\n",
    "        extracted_json = match.group(1)  # Capture JSON inside triple backticks\n",
    "    else:\n",
    "        extracted_json = last_message  # Fallback if not wrapped in ```json```\n",
    "\n",
    "    # Try to parse the extracted JSON\n",
    "    try:\n",
    "        parsed_json = json.loads(extracted_json)\n",
    "        print(f\"Extracted JSON: {parsed_json}\")\n",
    "    except json.JSONDecodeError:\n",
    "        print(\"Failed to parse JSON. Returning empty object.\")\n",
    "        parsed_json = {}\n",
    "\n",
    "    return {\"messages\": messages + [parsed_json]}"
   ]
  },
  {
   "cell_type": "code",
   "execution_count": 281,
   "metadata": {},
   "outputs": [],
   "source": [
    "workflow = StateGraph(AgentState)\n",
    "\n",
    "# Define nodes\n",
    "workflow.add_node(\"agent\", agent)\n",
    "workflow.add_node(\"action\", call_tool)\n",
    "workflow.add_node(\"extract_json\", extract_json)  # New node!\n",
    "\n",
    "# Set entry point\n",
    "workflow.set_entry_point(\"agent\")\n",
    "\n",
    "# Conditional edges:\n",
    "workflow.add_conditional_edges(\"agent\", should_continue, {\n",
    "    \"continue\": \"action\",  # If more actions needed, call tools\n",
    "    \"end\": \"extract_json\"  # If response is ready, extract JSON before finishing\n",
    "})\n",
    "\n",
    "# Ensure action results are processed again by the agent\n",
    "workflow.add_edge(\"action\", \"agent\")\n",
    "\n",
    "# Extract JSON before final output\n",
    "workflow.add_edge(\"extract_json\", END)\n",
    "\n",
    "# Compile workflow\n",
    "app = workflow.compile(checkpointer=memory)\n"
   ]
  },
  {
   "cell_type": "code",
   "execution_count": 282,
   "metadata": {},
   "outputs": [],
   "source": [
    "# Load the command schemas\n",
    "commands = load_command_schemas()\n",
    "\n",
    "# Create a structured system message to educate the agent\n",
    "system_message = SystemMessage(\n",
    "    content=f\"\"\"You are an agent designed to take natural language prompts, infer intent, and map that intent\n",
    "    to corresponding JupyterLab commands in JSON structure, following the correct execution order.\n",
    "\n",
    "    Below is a list of valid JupyterLab commands. Each command includes:\n",
    "      - A **title** (short name)\n",
    "      - A **description** (what it does)\n",
    "      - **Example phrases** (possible user inputs)\n",
    "      - The **expected JSON structure** to execute the command\n",
    "\n",
    "    Reference this list when constructing valid JupyterLab command responses:\n",
    "    ```json\n",
    "    {json.dumps(commands, indent=2)}\n",
    "    ```\n",
    "    Ensure that all responses strictly follow the JSON schema definitions.\n",
    "    \"\"\"\n",
    ")\n",
    "\n",
    "# Example user message\n",
    "human_message = HumanMessage(\n",
    "    content=\"Run the current cell\"\n",
    ")\n",
    "\n",
    "# Format inputs for agent processing\n",
    "inputs = {\"messages\": [system_message, human_message]}"
   ]
  },
  {
   "cell_type": "code",
   "execution_count": 288,
   "metadata": {},
   "outputs": [
    {
     "name": "stdout",
     "output_type": "stream",
     "text": [
      "Extracted JSON: {'name': 'notebook:run-cell', 'args': {'activate': True}}\n"
     ]
    },
    {
     "data": {
      "text/plain": [
       "{'name': 'notebook:run-cell', 'args': {'activate': True}}"
      ]
     },
     "execution_count": 288,
     "metadata": {},
     "output_type": "execute_result"
    }
   ],
   "source": [
    "result = app.invoke(inputs, config)[\"messages\"][-1]\n",
    "result"
   ]
  },
  {
   "cell_type": "code",
   "execution_count": 287,
   "metadata": {},
   "outputs": [
    {
     "data": {
      "text/plain": [
       "{'name': 'notebook:run-cell', 'args': {'activate': True}}"
      ]
     },
     "execution_count": 287,
     "metadata": {},
     "output_type": "execute_result"
    }
   ],
   "source": []
  },
  {
   "cell_type": "code",
   "execution_count": 283,
   "metadata": {},
   "outputs": [
    {
     "name": "stdout",
     "output_type": "stream",
     "text": [
      "Output from node: 'agent':\n",
      "---\n",
      "{'messages': [SystemMessage(content='You are an agent designed to take natural language prompts, infer intent, and map that intent\\n    to corresponding JupyterLab commands in JSON structure, following the correct execution order.\\n\\n    Below is a list of valid JupyterLab commands. Each command includes:\\n      - A **title** (short name)\\n      - A **description** (what it does)\\n      - **Example phrases** (possible user inputs)\\n      - The **expected JSON structure** to execute the command\\n\\n    Reference this list when constructing valid JupyterLab command responses:\\n    ```json\\n    {\\n  \"$schema\": \"https://json-schema.org/draft/2020-12/schema\",\\n  \"commands\": [\\n    {\\n      \"title\": \"Run Cell\",\\n      \"description\": \"Runs the currently selected cell in the Jupyter notebook.\",\\n      \"example_phrases\": [\\n        \"Run this cell\",\\n        \"Execute the selected cell\",\\n        \"Go ahead and run the active code block\"\\n      ],\\n      \"json_schema\": {\\n        \"type\": \"object\",\\n        \"properties\": {\\n          \"name\": {\\n            \"const\": \"notebook:run-cell\"\\n          },\\n          \"args\": {\\n            \"type\": \"object\",\\n            \"properties\": {\\n              \"activate\": {\\n                \"type\": \"boolean\"\\n              }\\n            },\\n            \"required\": [\\n              \"activate\"\\n            ]\\n          }\\n        },\\n        \"required\": [\\n          \"name\",\\n          \"args\"\\n        ]\\n      }\\n    },\\n    {\\n      \"title\": \"Cut Cell\",\\n      \"description\": \"Cuts the currently selected cell, removing it from the notebook and placing it in the clipboard.\",\\n      \"example_phrases\": [\\n        \"Cut the active cell\",\\n        \"Remove this cell\",\\n        \"Delete and copy this cell\"\\n      ],\\n      \"json_schema\": {\\n        \"type\": \"object\",\\n        \"properties\": {\\n          \"name\": {\\n            \"const\": \"notebook:cut-cell\"\\n          },\\n          \"args\": {\\n            \"type\": \"object\",\\n            \"properties\": {\\n              \"toolbar\": {\\n                \"type\": \"boolean\"\\n              },\\n              \"activate\": {\\n                \"type\": \"boolean\"\\n              }\\n            },\\n            \"required\": [\\n              \"toolbar\",\\n              \"activate\"\\n            ]\\n          }\\n        },\\n        \"required\": [\\n          \"name\",\\n          \"args\"\\n        ]\\n      }\\n    },\\n    {\\n      \"title\": \"Insert Cell Below\",\\n      \"description\": \"Inserts a new cell below the currently selected one.\",\\n      \"example_phrases\": [\\n        \"Add a new cell below\",\\n        \"Insert a cell under this one\",\\n        \"Create a new cell below\"\\n      ],\\n      \"json_schema\": {\\n        \"type\": \"object\",\\n        \"properties\": {\\n          \"name\": {\\n            \"const\": \"notebook:insert-cell-below\"\\n          },\\n          \"args\": {\\n            \"type\": \"object\",\\n            \"properties\": {\\n              \"activate\": {\\n                \"type\": \"boolean\"\\n              },\\n              \"toolbar\": {\\n                \"type\": \"boolean\"\\n              }\\n            },\\n            \"required\": [\\n              \"activate\"\\n            ]\\n          }\\n        },\\n        \"required\": [\\n          \"name\",\\n          \"args\"\\n        ]\\n      }\\n    },\\n    {\\n      \"title\": \"Insert Cell Above\",\\n      \"description\": \"Inserts a new cell above the currently selected one.\",\\n      \"example_phrases\": [\\n        \"Add a new cell above\",\\n        \"Insert a cell over this one\",\\n        \"Create a new cell on top\"\\n      ],\\n      \"json_schema\": {\\n        \"type\": \"object\",\\n        \"properties\": {\\n          \"name\": {\\n            \"const\": \"notebook:insert-cell-above\"\\n          },\\n          \"args\": {\\n            \"type\": \"object\",\\n            \"properties\": {\\n              \"activate\": {\\n                \"type\": \"boolean\"\\n              },\\n              \"toolbar\": {\\n                \"type\": \"boolean\"\\n              }\\n            },\\n            \"required\": [\\n              \"activate\"\\n            ]\\n          }\\n        },\\n        \"required\": [\\n          \"name\",\\n          \"args\"\\n        ]\\n      }\\n    },\\n    {\\n      \"title\": \"Enter Command Mode\",\\n      \"description\": \"Switches the Jupyter Notebook into command mode.\",\\n      \"example_phrases\": [\\n        \"Go to command mode\",\\n        \"Switch to command mode\",\\n        \"Exit edit mode and enter command mode\"\\n      ],\\n      \"json_schema\": {\\n        \"type\": \"object\",\\n        \"properties\": {\\n          \"name\": {\\n            \"const\": \"notebook:enter-command-mode\"\\n          },\\n          \"args\": {\\n            \"type\": \"object\",\\n            \"properties\": {\\n              \"activate\": {\\n                \"type\": \"boolean\"\\n              }\\n            },\\n            \"required\": [\\n              \"activate\"\\n            ]\\n          }\\n        },\\n        \"required\": [\\n          \"name\",\\n          \"args\"\\n        ]\\n      }\\n    },\\n    {\\n      \"title\": \"Enter Edit Mode\",\\n      \"description\": \"Switches the Jupyter Notebook into edit mode.\",\\n      \"example_phrases\": [\\n        \"Enter edit mode\",\\n        \"Start editing this cell\",\\n        \"Go to edit mode\"\\n      ],\\n      \"json_schema\": {\\n        \"type\": \"object\",\\n        \"properties\": {\\n          \"name\": {\\n            \"const\": \"notebook:enter-edit-mode\"\\n          },\\n          \"args\": {\\n            \"type\": \"object\",\\n            \"properties\": {\\n              \"activate\": {\\n                \"type\": \"boolean\"\\n              }\\n            },\\n            \"required\": [\\n              \"activate\"\\n            ]\\n          }\\n        },\\n        \"required\": [\\n          \"name\",\\n          \"args\"\\n        ]\\n      }\\n    },\\n    {\\n      \"title\": \"Change Cell to Markdown\",\\n      \"description\": \"Changes the currently selected cell to Markdown.\",\\n      \"example_phrases\": [\\n        \"Convert this cell to Markdown\",\\n        \"Make this a Markdown cell\",\\n        \"Switch to Markdown mode\"\\n      ],\\n      \"json_schema\": {\\n        \"type\": \"object\",\\n        \"properties\": {\\n          \"name\": {\\n            \"const\": \"notebook:change-cell-to-markdown\"\\n          },\\n          \"args\": {\\n            \"type\": \"object\",\\n            \"properties\": {\\n              \"activate\": {\\n                \"type\": \"boolean\"\\n              }\\n            },\\n            \"required\": [\\n              \"activate\"\\n            ]\\n          }\\n        },\\n        \"required\": [\\n          \"name\",\\n          \"args\"\\n        ]\\n      }\\n    }\\n  ]\\n}\\n    ```\\n    Ensure that all responses strictly follow the JSON schema definitions.\\n    ', additional_kwargs={}, response_metadata={}), HumanMessage(content='Run the current cell', additional_kwargs={}, response_metadata={}), AIMessage(content='Based on your request, the corresponding JupyterLab command in JSON structure is:\\n\\n```json\\n{\\n  \"name\": \"notebook:run-cell\",\\n  \"args\": {\\n    \"activate\": true\\n  }\\n}\\n```', additional_kwargs={}, response_metadata={'finish_reason': 'stop', 'model_name': 'gpt-4-0613'}, id='run-a31c01ad-717b-4d2f-b8c1-e271005adedf-0')]}\n",
      "\n",
      "---\n",
      "\n",
      "Extracted JSON: {'name': 'notebook:run-cell', 'args': {'activate': True}}\n",
      "Output from node: 'extract_json':\n",
      "---\n",
      "{'messages': [SystemMessage(content='You are an agent designed to take natural language prompts, infer intent, and map that intent\\n    to corresponding JupyterLab commands in JSON structure, following the correct execution order.\\n\\n    Below is a list of valid JupyterLab commands. Each command includes:\\n      - A **title** (short name)\\n      - A **description** (what it does)\\n      - **Example phrases** (possible user inputs)\\n      - The **expected JSON structure** to execute the command\\n\\n    Reference this list when constructing valid JupyterLab command responses:\\n    ```json\\n    {\\n  \"$schema\": \"https://json-schema.org/draft/2020-12/schema\",\\n  \"commands\": [\\n    {\\n      \"title\": \"Run Cell\",\\n      \"description\": \"Runs the currently selected cell in the Jupyter notebook.\",\\n      \"example_phrases\": [\\n        \"Run this cell\",\\n        \"Execute the selected cell\",\\n        \"Go ahead and run the active code block\"\\n      ],\\n      \"json_schema\": {\\n        \"type\": \"object\",\\n        \"properties\": {\\n          \"name\": {\\n            \"const\": \"notebook:run-cell\"\\n          },\\n          \"args\": {\\n            \"type\": \"object\",\\n            \"properties\": {\\n              \"activate\": {\\n                \"type\": \"boolean\"\\n              }\\n            },\\n            \"required\": [\\n              \"activate\"\\n            ]\\n          }\\n        },\\n        \"required\": [\\n          \"name\",\\n          \"args\"\\n        ]\\n      }\\n    },\\n    {\\n      \"title\": \"Cut Cell\",\\n      \"description\": \"Cuts the currently selected cell, removing it from the notebook and placing it in the clipboard.\",\\n      \"example_phrases\": [\\n        \"Cut the active cell\",\\n        \"Remove this cell\",\\n        \"Delete and copy this cell\"\\n      ],\\n      \"json_schema\": {\\n        \"type\": \"object\",\\n        \"properties\": {\\n          \"name\": {\\n            \"const\": \"notebook:cut-cell\"\\n          },\\n          \"args\": {\\n            \"type\": \"object\",\\n            \"properties\": {\\n              \"toolbar\": {\\n                \"type\": \"boolean\"\\n              },\\n              \"activate\": {\\n                \"type\": \"boolean\"\\n              }\\n            },\\n            \"required\": [\\n              \"toolbar\",\\n              \"activate\"\\n            ]\\n          }\\n        },\\n        \"required\": [\\n          \"name\",\\n          \"args\"\\n        ]\\n      }\\n    },\\n    {\\n      \"title\": \"Insert Cell Below\",\\n      \"description\": \"Inserts a new cell below the currently selected one.\",\\n      \"example_phrases\": [\\n        \"Add a new cell below\",\\n        \"Insert a cell under this one\",\\n        \"Create a new cell below\"\\n      ],\\n      \"json_schema\": {\\n        \"type\": \"object\",\\n        \"properties\": {\\n          \"name\": {\\n            \"const\": \"notebook:insert-cell-below\"\\n          },\\n          \"args\": {\\n            \"type\": \"object\",\\n            \"properties\": {\\n              \"activate\": {\\n                \"type\": \"boolean\"\\n              },\\n              \"toolbar\": {\\n                \"type\": \"boolean\"\\n              }\\n            },\\n            \"required\": [\\n              \"activate\"\\n            ]\\n          }\\n        },\\n        \"required\": [\\n          \"name\",\\n          \"args\"\\n        ]\\n      }\\n    },\\n    {\\n      \"title\": \"Insert Cell Above\",\\n      \"description\": \"Inserts a new cell above the currently selected one.\",\\n      \"example_phrases\": [\\n        \"Add a new cell above\",\\n        \"Insert a cell over this one\",\\n        \"Create a new cell on top\"\\n      ],\\n      \"json_schema\": {\\n        \"type\": \"object\",\\n        \"properties\": {\\n          \"name\": {\\n            \"const\": \"notebook:insert-cell-above\"\\n          },\\n          \"args\": {\\n            \"type\": \"object\",\\n            \"properties\": {\\n              \"activate\": {\\n                \"type\": \"boolean\"\\n              },\\n              \"toolbar\": {\\n                \"type\": \"boolean\"\\n              }\\n            },\\n            \"required\": [\\n              \"activate\"\\n            ]\\n          }\\n        },\\n        \"required\": [\\n          \"name\",\\n          \"args\"\\n        ]\\n      }\\n    },\\n    {\\n      \"title\": \"Enter Command Mode\",\\n      \"description\": \"Switches the Jupyter Notebook into command mode.\",\\n      \"example_phrases\": [\\n        \"Go to command mode\",\\n        \"Switch to command mode\",\\n        \"Exit edit mode and enter command mode\"\\n      ],\\n      \"json_schema\": {\\n        \"type\": \"object\",\\n        \"properties\": {\\n          \"name\": {\\n            \"const\": \"notebook:enter-command-mode\"\\n          },\\n          \"args\": {\\n            \"type\": \"object\",\\n            \"properties\": {\\n              \"activate\": {\\n                \"type\": \"boolean\"\\n              }\\n            },\\n            \"required\": [\\n              \"activate\"\\n            ]\\n          }\\n        },\\n        \"required\": [\\n          \"name\",\\n          \"args\"\\n        ]\\n      }\\n    },\\n    {\\n      \"title\": \"Enter Edit Mode\",\\n      \"description\": \"Switches the Jupyter Notebook into edit mode.\",\\n      \"example_phrases\": [\\n        \"Enter edit mode\",\\n        \"Start editing this cell\",\\n        \"Go to edit mode\"\\n      ],\\n      \"json_schema\": {\\n        \"type\": \"object\",\\n        \"properties\": {\\n          \"name\": {\\n            \"const\": \"notebook:enter-edit-mode\"\\n          },\\n          \"args\": {\\n            \"type\": \"object\",\\n            \"properties\": {\\n              \"activate\": {\\n                \"type\": \"boolean\"\\n              }\\n            },\\n            \"required\": [\\n              \"activate\"\\n            ]\\n          }\\n        },\\n        \"required\": [\\n          \"name\",\\n          \"args\"\\n        ]\\n      }\\n    },\\n    {\\n      \"title\": \"Change Cell to Markdown\",\\n      \"description\": \"Changes the currently selected cell to Markdown.\",\\n      \"example_phrases\": [\\n        \"Convert this cell to Markdown\",\\n        \"Make this a Markdown cell\",\\n        \"Switch to Markdown mode\"\\n      ],\\n      \"json_schema\": {\\n        \"type\": \"object\",\\n        \"properties\": {\\n          \"name\": {\\n            \"const\": \"notebook:change-cell-to-markdown\"\\n          },\\n          \"args\": {\\n            \"type\": \"object\",\\n            \"properties\": {\\n              \"activate\": {\\n                \"type\": \"boolean\"\\n              }\\n            },\\n            \"required\": [\\n              \"activate\"\\n            ]\\n          }\\n        },\\n        \"required\": [\\n          \"name\",\\n          \"args\"\\n        ]\\n      }\\n    }\\n  ]\\n}\\n    ```\\n    Ensure that all responses strictly follow the JSON schema definitions.\\n    ', additional_kwargs={}, response_metadata={}), HumanMessage(content='Run the current cell', additional_kwargs={}, response_metadata={}), AIMessage(content='Based on your request, the corresponding JupyterLab command in JSON structure is:\\n\\n```json\\n{\\n  \"name\": \"notebook:run-cell\",\\n  \"args\": {\\n    \"activate\": true\\n  }\\n}\\n```', additional_kwargs={}, response_metadata={'finish_reason': 'stop', 'model_name': 'gpt-4-0613'}, id='run-a31c01ad-717b-4d2f-b8c1-e271005adedf-0'), {'name': 'notebook:run-cell', 'args': {'activate': True}}]}\n",
      "\n",
      "---\n",
      "\n"
     ]
    }
   ],
   "source": [
    "\n",
    "for output in app.stream(inputs, config):\n",
    "    for key, value in output.items():\n",
    "        print(f\"Output from node: '{key}':\")\n",
    "        print(\"---\")\n",
    "        print(value)\n",
    "        print(\"\\n---\\n\")"
   ]
  },
  {
   "cell_type": "code",
   "execution_count": 70,
   "metadata": {},
   "outputs": [
    {
     "name": "stdout",
     "output_type": "stream",
     "text": [
      "Agent thought process: {'finish_reason': 'stop', 'model_name': 'gpt-4-0613'}\n"
     ]
    }
   ],
   "source": [
    "from langchain_core.messages import AIMessage\n",
    "\n",
    "response = app.invoke(inputs, config)\n",
    "if isinstance(response[\"messages\"][-1], AIMessage):\n",
    "    print(\"Agent thought process:\", response[\"messages\"][-1].response_metadata)\n"
   ]
  },
  {
   "cell_type": "code",
   "execution_count": 247,
   "metadata": {},
   "outputs": [
    {
     "name": "stdout",
     "output_type": "stream",
     "text": [
      "✅ Valid command! Sending to JupyterLab...\n"
     ]
    }
   ],
   "source": [
    "from jsonschema import validate, ValidationError\n",
    "\n",
    "# The schema for validating AI responses\n",
    "schema = {\n",
    "    \"type\": \"object\",\n",
    "    \"properties\": {\n",
    "        \"name\": {\"const\": \"notebook:run-cell\"},\n",
    "        \"args\": {\n",
    "            \"type\": \"object\",\n",
    "            \"properties\": {\n",
    "                \"activate\": {\"type\": \"boolean\"}\n",
    "            },\n",
    "            \"required\": [\"activate\"]\n",
    "        }\n",
    "    },\n",
    "    \"required\": [\"name\", \"args\"]\n",
    "}\n",
    "\n",
    "# Example command from AI\n",
    "command_response = {\n",
    "    \"name\": \"notebook:run-cell\",\n",
    "    \"args\": {\"activate\": True}\n",
    "}\n",
    "\n",
    "try:\n",
    "    validate(instance=command_response, schema=schema)\n",
    "    print(\"✅ Valid command! Sending to JupyterLab...\")\n",
    "    # Call JupyterLab execution function here\n",
    "except ValidationError as e:\n",
    "    print(\"❌ Invalid command:\", e)\n"
   ]
  }
 ],
 "metadata": {
  "kernelspec": {
   "display_name": "new_env",
   "language": "python",
   "name": "python3"
  },
  "language_info": {
   "codemirror_mode": {
    "name": "ipython",
    "version": 3
   },
   "file_extension": ".py",
   "mimetype": "text/x-python",
   "name": "python",
   "nbconvert_exporter": "python",
   "pygments_lexer": "ipython3",
   "version": "3.12.4"
  }
 },
 "nbformat": 4,
 "nbformat_minor": 2
}
