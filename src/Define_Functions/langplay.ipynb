{
 "cells": [
  {
   "cell_type": "code",
   "execution_count": 8,
   "metadata": {},
   "outputs": [],
   "source": [
    "from dotenv import load_dotenv\n",
    "from langchain.chat_models import ChatOpenAI\n",
    "from langchain.tools import BaseTool, Tool, tool\n",
    "from langgraph.graph import StateGraph, END\n",
    "from langchain_core.messages import SystemMessage, HumanMessage, BaseMessage, FunctionMessage\n",
    "from langgraph.checkpoint.memory import MemorySaver\n",
    "from langgraph.prebuilt.tool_executor import ToolExecutor\n",
    "from langgraph.prebuilt import ToolInvocation\n",
    "from langchain.tools import format_tool_to_openai_function\n",
    "from typing import TypedDict, Sequence\n",
    "import re\n",
    "\n",
    "\n",
    "\n",
    "\n",
    "import json\n",
    "\n",
    "import os\n",
    "\n",
    "load_dotenv()\n",
    "\n",
    "api_key = os.getenv(\"OPENAI_API_KEY\")\n",
    "\n",
    "os.environ[\"OPENAI_API_KEY\"] = api_key"
   ]
  },
  {
   "cell_type": "code",
   "execution_count": 58,
   "metadata": {},
   "outputs": [],
   "source": [
    "llm = ChatOpenAI(api_key=api_key, model=\"gpt-4\", temperature=0, streaming=True)\n",
    "\n",
    "# Memory saver for the workflow\n",
    "memory = MemorySaver()\n"
   ]
  },
  {
   "cell_type": "code",
   "execution_count": 59,
   "metadata": {},
   "outputs": [],
   "source": [
    "class AgentState(TypedDict):\n",
    "    messages: Sequence[BaseMessage]"
   ]
  },
  {
   "cell_type": "code",
   "execution_count": 60,
   "metadata": {},
   "outputs": [],
   "source": [
    "@tool(\"previous_cell\", return_direct=True)\n",
    "def previous_cell(input: str) -> str:\n",
    "    \"\"\"Fetch the content of the previous cell given its index. \n",
    "    This can potentially help provide more context to write the body of the function\"\"\"\n",
    "    try:\n",
    "        idx = int(input)\n",
    "        with open(\"../test_data/test_book.ipynb\", \"r\") as f:\n",
    "            notebook_data = json.load(f)\n",
    "            cells = notebook_data.get(\"cells\", [])\n",
    "            if 0 <= idx < len(cells) and cells[idx][\"cell_type\"] == \"code\":\n",
    "                return \"\".join(cells[idx][\"source\"]).strip()\n",
    "            return \"No code found or invalid index.\"\n",
    "    except Exception as e:\n",
    "        return f\"Error fetching previous cell: {str(e)}\""
   ]
  },
  {
   "cell_type": "code",
   "execution_count": 61,
   "metadata": {},
   "outputs": [],
   "source": [
    "@tool(\"check_for_unwritten_function\", return_direct=True)\n",
    "def check_for_unwritten_function(code):\n",
    "    \"\"\"\n",
    "    Given the code from a cell, determine if there are any function definitions whose body still \n",
    "    needs to be written in that cell, return their names if there are any.\n",
    "    \"\"\"\n",
    "    unwritten_functions = []\n",
    "    error = None\n",
    "\n",
    "    # Split the code by newlines and analyze each line\n",
    "    lines = code.split(\"\\n\")\n",
    "\n",
    "    # Regex to match function definitions\n",
    "    func_pattern = re.compile(r\"def (\\w+)\\s?\\(\")\n",
    "\n",
    "    for idx, line in enumerate(lines):\n",
    "        match = func_pattern.match(line.strip())\n",
    "        if match:\n",
    "            func_name = match.group(1)\n",
    "            # Check the next lines for the body of the function\n",
    "            body_lines = lines[idx + 1:]  # Body starts from the next line after \"def\"\n",
    "            \n",
    "            # Identify the body of the function\n",
    "            body = \"\"\n",
    "            for body_line in body_lines:\n",
    "                body += body_line.strip() + \"\\n\"\n",
    "            \n",
    "            # Check the function body for unwritten elements: 'pass', comment-only, or empty\n",
    "            if 'pass' in body.strip() or all(line.lstrip().startswith('#') for line in body_lines):\n",
    "                unwritten_functions.append(func_name)\n",
    "\n",
    "    result = {\n",
    "        \"unwritten_functions\": unwritten_functions,\n",
    "        \"error\": error\n",
    "    }\n",
    "\n",
    "    return json.dumps(result)\n"
   ]
  },
  {
   "cell_type": "code",
   "execution_count": 62,
   "metadata": {},
   "outputs": [
    {
     "data": {
      "text/plain": [
       "'{\"unwritten_functions\": [\"convert_to_string\"], \"error\": null}'"
      ]
     },
     "execution_count": 62,
     "metadata": {},
     "output_type": "execute_result"
    }
   ],
   "source": [
    "check_for_unwritten_function(\"\"\"def convert_to_string(list): \n",
    "    pass\"\"\")"
   ]
  },
  {
   "cell_type": "code",
   "execution_count": 63,
   "metadata": {},
   "outputs": [
    {
     "name": "stdout",
     "output_type": "stream",
     "text": [
      "Test Case 1: Input: 'def convert_to_string(list):\\n    pass'\n",
      "✔ Test passed\n",
      "Test Case 2: Input: 'def empty_function():\\n    # This is a placeholder'\n",
      "✔ Test passed\n",
      "Test Case 3: Input: \"def valid_function():\\n    # Initial comment\\n    print('Hello, world!')\"\n",
      "✔ Test passed\n",
      "Test Case 4: Input: \"def func_with_pass():\\n    pass\\n\\ndef func_with_body():\\n    print('I do stuff')\\n\\ndef empty_func():\"\n",
      "✔ Test passed\n",
      "Test Case 5: Input: 'nums = [1, 2, 3, 4, 5]'\n",
      "✔ Test passed\n",
      "Test Case 6: Input: 'def todo_func():\\n    # TODO'\n",
      "✔ Test passed\n",
      "Test Case 7: Input: 'def comment_only_func():\\n    #'\n",
      "✔ Test passed\n"
     ]
    }
   ],
   "source": [
    "def test_check_for_unwritten_function():\n",
    "    cases = [\n",
    "        # (code input, expected unwritten functions, expect error)\n",
    "        (\"def convert_to_string(list):\\n    pass\", [\"convert_to_string\"], None),\n",
    "        (\"def empty_function():\\n    # This is a placeholder\", [\"empty_function\"], None),\n",
    "        (\"def valid_function():\\n    # Initial comment\\n    print('Hello, world!')\", [], None),\n",
    "        (\"def func_with_pass():\\n    pass\\n\\ndef func_with_body():\\n    print('I do stuff')\\n\\ndef empty_func():\",\n",
    "         [\"func_with_pass\", \"empty_func\"], None),\n",
    "        (\"nums = [1, 2, 3, 4, 5]\", [], None),\n",
    "        (\"def todo_func():\\n    # TODO\", [\"todo_func\"], None),\n",
    "        (\"def comment_only_func():\\n    #\", [\"comment_only_func\"], None)\n",
    "    ]\n",
    "\n",
    "    for i, (code, expected_functions, expected_error) in enumerate(cases):\n",
    "        print(f\"Test Case {i + 1}: Input: {code!r}\")\n",
    "        result = check_for_unwritten_function(code)\n",
    "        result_dict = json.loads(result)\n",
    "\n",
    "        unwritten = result_dict.get(\"unwritten_functions\", [])\n",
    "        error = result_dict.get(\"error\")\n",
    "\n",
    "        if unwritten == expected_functions and (expected_error is None or expected_error in (error or \"\")):\n",
    "            print(\"✔ Test passed\")\n",
    "        else:\n",
    "            print(f\"✘ Test failed: Expected functions {expected_functions} and error '{expected_error}', \"\n",
    "                  f\"but got functions {unwritten} and error '{error}'\")\n",
    "\n",
    "\n",
    "test_check_for_unwritten_function()"
   ]
  },
  {
   "cell_type": "code",
   "execution_count": 64,
   "metadata": {},
   "outputs": [],
   "source": [
    "@tool(\"find_function_calls\", return_direct=True)\n",
    "def find_function_calls(input: str) -> str:\n",
    "    \"\"\"Finds all cells in the notebook where the unwritten function is called. Returns a list of cell content.\"\"\"\n",
    "    try:\n",
    "        func_name = input\n",
    "        with open(\"../test_data/test_book.ipynb\", \"r\") as f:\n",
    "            notebook_data = json.load(f)\n",
    "            cells = notebook_data.get(\"cells\", [])\n",
    "            return json.dumps(\n",
    "                [\n",
    "                    \"\".join(cell[\"source\"])\n",
    "                    for cell in cells\n",
    "                    if cell[\"cell_type\"] == \"code\" and func_name in \"\".join(cell[\"source\"])\n",
    "                ]\n",
    "            )\n",
    "    except Exception as e:\n",
    "        return f\"Error searching for function calls: {str(e)}\"\n"
   ]
  },
  {
   "cell_type": "code",
   "execution_count": 65,
   "metadata": {},
   "outputs": [
    {
     "name": "stderr",
     "output_type": "stream",
     "text": [
      "/var/folders/3h/z8r254ts5r58qphcnd1h46xw0000gn/T/ipykernel_94098/2327283001.py:2: LangGraphDeprecationWarning: ToolExecutor is deprecated as of version 0.2.0 and will be removed in 0.3.0. Use langgraph.prebuilt.ToolNode instead.\n",
      "  tool_executer = ToolExecutor(tools)\n"
     ]
    }
   ],
   "source": [
    "tools = [previous_cell, check_for_unwritten_function, find_function_calls]\n",
    "tool_executer = ToolExecutor(tools)\n",
    "functions = [format_tool_to_openai_function(t) for t in tools]\n",
    "model = llm.bind_functions(functions)"
   ]
  },
  {
   "cell_type": "code",
   "execution_count": 66,
   "metadata": {},
   "outputs": [],
   "source": [
    "def agent(state):\n",
    "    messages = state['messages']\n",
    "    # print(\"MESSAGES: \", messages)\n",
    "    response = model.invoke(messages)\n",
    "    return {\"messages\": messages + [response]}"
   ]
  },
  {
   "cell_type": "code",
   "execution_count": 67,
   "metadata": {},
   "outputs": [],
   "source": [
    "def should_continue(state):\n",
    "    messages = state[\"messages\"]\n",
    "    last_message = messages[-1]\n",
    "    if \"function_call\" not in last_message.additional_kwargs:\n",
    "        return \"end\"\n",
    "    else: \n",
    "        return \"continue\""
   ]
  },
  {
   "cell_type": "code",
   "execution_count": 68,
   "metadata": {},
   "outputs": [],
   "source": [
    "def call_tool(state):\n",
    "    messages = state[\"messages\"]\n",
    "    last_message = messages[-1]\n",
    "\n",
    "    action = ToolInvocation(\n",
    "        tool = last_message.additional_kwargs[\"function_call\"][\"name\"],\n",
    "        tool_input = json.loads(last_message.additional_kwargs[\"function_call\"][\"arguments\"]))\n",
    "\n",
    "    response = tool_executer.invoke(action)\n",
    "    function_message = FunctionMessage(content=str(response), name = action.tool)\n",
    "    return {\"messages\": messages + [function_message]}"
   ]
  },
  {
   "cell_type": "code",
   "execution_count": 69,
   "metadata": {},
   "outputs": [],
   "source": [
    "workflow = StateGraph(AgentState)\n",
    "\n",
    "workflow.add_node(\"agent\", agent)\n",
    "workflow.add_node(\"action\", call_tool)\n",
    "\n",
    "workflow.set_entry_point(\"agent\")\n",
    "\n",
    "workflow.add_conditional_edges(\"agent\", should_continue, { \"continue\": \"action\", \"end\": END})\n",
    "\n",
    "workflow.add_edge(\"action\", \"agent\")\n",
    "\n",
    "app = workflow.compile(checkpointer = memory)"
   ]
  },
  {
   "cell_type": "code",
   "execution_count": 72,
   "metadata": {},
   "outputs": [],
   "source": [
    "def extract_code_blocks(content):\n",
    "    \"\"\"\n",
    "    Extracts code blocks from the response content.\n",
    "    \"\"\"\n",
    "    code_blocks = re.findall(r'```python\\n(.*?)```', content, re.DOTALL)\n",
    "    return \"\\n\".join(code_blocks) if code_blocks else content\n"
   ]
  },
  {
   "cell_type": "code",
   "execution_count": 73,
   "metadata": {},
   "outputs": [
    {
     "data": {
      "text/plain": [
       "'def convert_to_string(lst):\\n    return [str(item) for item in lst]\\n'"
      ]
     },
     "execution_count": 73,
     "metadata": {},
     "output_type": "execute_result"
    }
   ],
   "source": [
    "extract_code_blocks(\"\"\"The function `convert_to_string` is called with a list of numbers as an argument. It seems like the function is expected to convert each number in the list to a string. Here is a possible implementation:\n",
    "\n",
    "```python\n",
    "def convert_to_string(lst):\n",
    "    return [str(item) for item in lst]\n",
    "```\n",
    "\n",
    "This function uses a list comprehension to iterate over each item in the list, convert it to a string using the `str` function, and return a new list with the converted items.\"\"\")"
   ]
  },
  {
   "cell_type": "code",
   "execution_count": 74,
   "metadata": {},
   "outputs": [],
   "source": [
    "def fix_notebook_code_cells(input_path, output_path):\n",
    "    with open(input_path, \"r\") as f:\n",
    "        notebook_data = json.load(f)\n",
    "\n",
    "    cells = notebook_data.get(\"cells\", [])\n",
    "    processed_cells = []\n",
    "\n",
    "    for idx, cell in enumerate(cells):\n",
    "        if cell[\"cell_type\"] == \"code\":\n",
    "            code = \"\".join(cell.get(\"source\", \"\")).strip()\n",
    "            if code:\n",
    "                config = {\"configurable\": {\"thread_id\": \"thread-1\"}}\n",
    "\n",
    "                system_message = SystemMessage(\n",
    "                    content=\"You are an AI assistant for completing Python notebooks.\"\n",
    "                )\n",
    "                human_message = HumanMessage(\n",
    "                    content=f\"Cell {idx}: {code}\\n\\nCheck for unwritten functions. If there are, search for context to use to fill in the bodies of those functions. If not, return the original code cell.\"\n",
    "                )\n",
    "                \n",
    "                inputs = {\"messages\": [system_message, human_message]}\n",
    "                \n",
    "                result = app.invoke(inputs, config)\n",
    "                print(\"cell: \", idx)\n",
    "                for output in app.stream(inputs, config):\n",
    "                    for key, value in output.items():\n",
    "                        print(f\"Output from node: '{key}':\")\n",
    "                        print(\"---\")\n",
    "                        print(value)\n",
    "                        print(\"\\n---\\n\")\n",
    "                \n",
    "                fixed_code = result[\"messages\"][-1].content\n",
    "                fixed_code = extract_code_blocks(fixed_code)\n",
    "                cell[\"source\"] = [fixed_code]\n",
    "            \n",
    "            processed_cells.append(cell)\n",
    "        elif cell[\"cell_type\"] == \"markdown\":\n",
    "            processed_cells.append(cell)\n",
    "\n",
    "    notebook_data[\"cells\"] = processed_cells\n",
    "\n",
    "    with open(output_path, \"w\") as f:\n",
    "        json.dump(notebook_data, f, indent=4)\n",
    "\n",
    "    print(f\"Updated notebook saved to {output_path}\")\n"
   ]
  },
  {
   "cell_type": "code",
   "execution_count": null,
   "metadata": {},
   "outputs": [],
   "source": []
  },
  {
   "cell_type": "code",
   "execution_count": 75,
   "metadata": {},
   "outputs": [
    {
     "name": "stderr",
     "output_type": "stream",
     "text": [
      "/var/folders/3h/z8r254ts5r58qphcnd1h46xw0000gn/T/ipykernel_94098/3468158642.py:5: LangGraphDeprecationWarning: ToolInvocation is deprecated as of version 0.2.0 and will be removed in 0.3.0. Use langgraph.prebuilt.ToolNode instead.\n",
      "  action = ToolInvocation(\n",
      "/var/folders/3h/z8r254ts5r58qphcnd1h46xw0000gn/T/ipykernel_94098/3468158642.py:5: LangGraphDeprecationWarning: ToolInvocation is deprecated as of version 0.2.0 and will be removed in 0.3.0. Use langgraph.prebuilt.ToolNode instead.\n",
      "  action = ToolInvocation(\n"
     ]
    },
    {
     "name": "stdout",
     "output_type": "stream",
     "text": [
      "cell:  1\n",
      "Output from node: 'agent':\n",
      "---\n",
      "{'messages': [SystemMessage(content='You are an AI assistant for completing Python notebooks.', additional_kwargs={}, response_metadata={}), HumanMessage(content='Cell 1: def convert_to_string(list): \\n    pass\\n\\nCheck for unwritten functions. If there are, search for context to use to fill in the bodies of those functions. If not, return the original code cell.', additional_kwargs={}, response_metadata={}), AIMessage(content='', additional_kwargs={'function_call': {'arguments': '{\\n  \"code\": \"def convert_to_string(list): \\\\n    pass\"\\n}', 'name': 'check_for_unwritten_function'}}, response_metadata={'finish_reason': 'function_call'}, id='run-d8a61da0-84f0-4217-ad0c-ba2ad6b1fdf5-0')]}\n",
      "\n",
      "---\n",
      "\n",
      "Output from node: 'action':\n",
      "---\n",
      "{'messages': [SystemMessage(content='You are an AI assistant for completing Python notebooks.', additional_kwargs={}, response_metadata={}), HumanMessage(content='Cell 1: def convert_to_string(list): \\n    pass\\n\\nCheck for unwritten functions. If there are, search for context to use to fill in the bodies of those functions. If not, return the original code cell.', additional_kwargs={}, response_metadata={}), AIMessage(content='', additional_kwargs={'function_call': {'arguments': '{\\n  \"code\": \"def convert_to_string(list): \\\\n    pass\"\\n}', 'name': 'check_for_unwritten_function'}}, response_metadata={'finish_reason': 'function_call'}, id='run-d8a61da0-84f0-4217-ad0c-ba2ad6b1fdf5-0'), FunctionMessage(content='{\"unwritten_functions\": [\"convert_to_string\"], \"error\": null}', additional_kwargs={}, response_metadata={}, name='check_for_unwritten_function')]}\n",
      "\n",
      "---\n",
      "\n"
     ]
    },
    {
     "name": "stderr",
     "output_type": "stream",
     "text": [
      "/var/folders/3h/z8r254ts5r58qphcnd1h46xw0000gn/T/ipykernel_94098/3468158642.py:5: LangGraphDeprecationWarning: ToolInvocation is deprecated as of version 0.2.0 and will be removed in 0.3.0. Use langgraph.prebuilt.ToolNode instead.\n",
      "  action = ToolInvocation(\n"
     ]
    },
    {
     "name": "stdout",
     "output_type": "stream",
     "text": [
      "Output from node: 'agent':\n",
      "---\n",
      "{'messages': [SystemMessage(content='You are an AI assistant for completing Python notebooks.', additional_kwargs={}, response_metadata={}), HumanMessage(content='Cell 1: def convert_to_string(list): \\n    pass\\n\\nCheck for unwritten functions. If there are, search for context to use to fill in the bodies of those functions. If not, return the original code cell.', additional_kwargs={}, response_metadata={}), AIMessage(content='', additional_kwargs={'function_call': {'arguments': '{\\n  \"code\": \"def convert_to_string(list): \\\\n    pass\"\\n}', 'name': 'check_for_unwritten_function'}}, response_metadata={'finish_reason': 'function_call'}, id='run-d8a61da0-84f0-4217-ad0c-ba2ad6b1fdf5-0'), FunctionMessage(content='{\"unwritten_functions\": [\"convert_to_string\"], \"error\": null}', additional_kwargs={}, response_metadata={}, name='check_for_unwritten_function'), AIMessage(content='', additional_kwargs={'function_call': {'arguments': '{\\n  \"input\": \"convert_to_string\"\\n}', 'name': 'find_function_calls'}}, response_metadata={'finish_reason': 'function_call'}, id='run-aaff6253-81ed-4c6b-96ef-f15838647f7e-0')]}\n",
      "\n",
      "---\n",
      "\n",
      "Output from node: 'action':\n",
      "---\n",
      "{'messages': [SystemMessage(content='You are an AI assistant for completing Python notebooks.', additional_kwargs={}, response_metadata={}), HumanMessage(content='Cell 1: def convert_to_string(list): \\n    pass\\n\\nCheck for unwritten functions. If there are, search for context to use to fill in the bodies of those functions. If not, return the original code cell.', additional_kwargs={}, response_metadata={}), AIMessage(content='', additional_kwargs={'function_call': {'arguments': '{\\n  \"code\": \"def convert_to_string(list): \\\\n    pass\"\\n}', 'name': 'check_for_unwritten_function'}}, response_metadata={'finish_reason': 'function_call'}, id='run-d8a61da0-84f0-4217-ad0c-ba2ad6b1fdf5-0'), FunctionMessage(content='{\"unwritten_functions\": [\"convert_to_string\"], \"error\": null}', additional_kwargs={}, response_metadata={}, name='check_for_unwritten_function'), AIMessage(content='', additional_kwargs={'function_call': {'arguments': '{\\n  \"input\": \"convert_to_string\"\\n}', 'name': 'find_function_calls'}}, response_metadata={'finish_reason': 'function_call'}, id='run-aaff6253-81ed-4c6b-96ef-f15838647f7e-0'), FunctionMessage(content='[\"def convert_to_string(list): \\\\n    pass\", \"nums = [1, 2, 3, 4, 5]\\\\nstrings = convert_to_string(nums)\"]', additional_kwargs={}, response_metadata={}, name='find_function_calls')]}\n",
      "\n",
      "---\n",
      "\n"
     ]
    },
    {
     "name": "stderr",
     "output_type": "stream",
     "text": [
      "/var/folders/3h/z8r254ts5r58qphcnd1h46xw0000gn/T/ipykernel_94098/3468158642.py:5: LangGraphDeprecationWarning: ToolInvocation is deprecated as of version 0.2.0 and will be removed in 0.3.0. Use langgraph.prebuilt.ToolNode instead.\n",
      "  action = ToolInvocation(\n"
     ]
    },
    {
     "name": "stdout",
     "output_type": "stream",
     "text": [
      "Output from node: 'agent':\n",
      "---\n",
      "{'messages': [SystemMessage(content='You are an AI assistant for completing Python notebooks.', additional_kwargs={}, response_metadata={}), HumanMessage(content='Cell 1: def convert_to_string(list): \\n    pass\\n\\nCheck for unwritten functions. If there are, search for context to use to fill in the bodies of those functions. If not, return the original code cell.', additional_kwargs={}, response_metadata={}), AIMessage(content='', additional_kwargs={'function_call': {'arguments': '{\\n  \"code\": \"def convert_to_string(list): \\\\n    pass\"\\n}', 'name': 'check_for_unwritten_function'}}, response_metadata={'finish_reason': 'function_call'}, id='run-d8a61da0-84f0-4217-ad0c-ba2ad6b1fdf5-0'), FunctionMessage(content='{\"unwritten_functions\": [\"convert_to_string\"], \"error\": null}', additional_kwargs={}, response_metadata={}, name='check_for_unwritten_function'), AIMessage(content='', additional_kwargs={'function_call': {'arguments': '{\\n  \"input\": \"convert_to_string\"\\n}', 'name': 'find_function_calls'}}, response_metadata={'finish_reason': 'function_call'}, id='run-aaff6253-81ed-4c6b-96ef-f15838647f7e-0'), FunctionMessage(content='[\"def convert_to_string(list): \\\\n    pass\", \"nums = [1, 2, 3, 4, 5]\\\\nstrings = convert_to_string(nums)\"]', additional_kwargs={}, response_metadata={}, name='find_function_calls'), AIMessage(content='The function `convert_to_string` is called with a list of numbers as an argument. It seems like the function is supposed to convert each number in the list to a string. Here is a possible implementation:\\n\\n```python\\ndef convert_to_string(lst):\\n    return [str(item) for item in lst]\\n```\\n\\nThis function uses a list comprehension to create a new list where each item is the string version of the corresponding item in the input list.', additional_kwargs={}, response_metadata={'finish_reason': 'stop'}, id='run-46116512-f25a-488b-8469-688f6f5c007d-0')]}\n",
      "\n",
      "---\n",
      "\n"
     ]
    },
    {
     "name": "stderr",
     "output_type": "stream",
     "text": [
      "/var/folders/3h/z8r254ts5r58qphcnd1h46xw0000gn/T/ipykernel_94098/3468158642.py:5: LangGraphDeprecationWarning: ToolInvocation is deprecated as of version 0.2.0 and will be removed in 0.3.0. Use langgraph.prebuilt.ToolNode instead.\n",
      "  action = ToolInvocation(\n"
     ]
    },
    {
     "name": "stdout",
     "output_type": "stream",
     "text": [
      "cell:  2\n",
      "Output from node: 'agent':\n",
      "---\n",
      "{'messages': [SystemMessage(content='You are an AI assistant for completing Python notebooks.', additional_kwargs={}, response_metadata={}), HumanMessage(content='Cell 2: nums = [1, 2, 3, 4, 5]\\nstrings = convert_to_string(nums)\\n\\nCheck for unwritten functions. If there are, search for context to use to fill in the bodies of those functions. If not, return the original code cell.', additional_kwargs={}, response_metadata={}), AIMessage(content='', additional_kwargs={'function_call': {'arguments': '{\\n  \"code\": \"nums = [1, 2, 3, 4, 5]\\\\nstrings = convert_to_string(nums)\"\\n}', 'name': 'check_for_unwritten_function'}}, response_metadata={'finish_reason': 'function_call'}, id='run-09a61ffb-50e3-4af4-a15e-c71035a6d24b-0')]}\n",
      "\n",
      "---\n",
      "\n",
      "Output from node: 'action':\n",
      "---\n",
      "{'messages': [SystemMessage(content='You are an AI assistant for completing Python notebooks.', additional_kwargs={}, response_metadata={}), HumanMessage(content='Cell 2: nums = [1, 2, 3, 4, 5]\\nstrings = convert_to_string(nums)\\n\\nCheck for unwritten functions. If there are, search for context to use to fill in the bodies of those functions. If not, return the original code cell.', additional_kwargs={}, response_metadata={}), AIMessage(content='', additional_kwargs={'function_call': {'arguments': '{\\n  \"code\": \"nums = [1, 2, 3, 4, 5]\\\\nstrings = convert_to_string(nums)\"\\n}', 'name': 'check_for_unwritten_function'}}, response_metadata={'finish_reason': 'function_call'}, id='run-09a61ffb-50e3-4af4-a15e-c71035a6d24b-0'), FunctionMessage(content='{\"unwritten_functions\": [], \"error\": null}', additional_kwargs={}, response_metadata={}, name='check_for_unwritten_function')]}\n",
      "\n",
      "---\n",
      "\n"
     ]
    },
    {
     "name": "stderr",
     "output_type": "stream",
     "text": [
      "/var/folders/3h/z8r254ts5r58qphcnd1h46xw0000gn/T/ipykernel_94098/3468158642.py:5: LangGraphDeprecationWarning: ToolInvocation is deprecated as of version 0.2.0 and will be removed in 0.3.0. Use langgraph.prebuilt.ToolNode instead.\n",
      "  action = ToolInvocation(\n"
     ]
    },
    {
     "name": "stdout",
     "output_type": "stream",
     "text": [
      "Output from node: 'agent':\n",
      "---\n",
      "{'messages': [SystemMessage(content='You are an AI assistant for completing Python notebooks.', additional_kwargs={}, response_metadata={}), HumanMessage(content='Cell 2: nums = [1, 2, 3, 4, 5]\\nstrings = convert_to_string(nums)\\n\\nCheck for unwritten functions. If there are, search for context to use to fill in the bodies of those functions. If not, return the original code cell.', additional_kwargs={}, response_metadata={}), AIMessage(content='', additional_kwargs={'function_call': {'arguments': '{\\n  \"code\": \"nums = [1, 2, 3, 4, 5]\\\\nstrings = convert_to_string(nums)\"\\n}', 'name': 'check_for_unwritten_function'}}, response_metadata={'finish_reason': 'function_call'}, id='run-09a61ffb-50e3-4af4-a15e-c71035a6d24b-0'), FunctionMessage(content='{\"unwritten_functions\": [], \"error\": null}', additional_kwargs={}, response_metadata={}, name='check_for_unwritten_function'), AIMessage(content='There are no unwritten functions in the code cell. The original code cell is:\\n\\n```python\\nnums = [1, 2, 3, 4, 5]\\nstrings = convert_to_string(nums)\\n```', additional_kwargs={}, response_metadata={'finish_reason': 'stop'}, id='run-8e7236ed-53a6-48bc-bee7-f934d26a21b3-0')]}\n",
      "\n",
      "---\n",
      "\n",
      "Updated notebook saved to ../test_data/fixed_test.ipynb\n"
     ]
    }
   ],
   "source": [
    "fix_notebook_code_cells(\"../test_data/test_book.ipynb\", \"../test_data/fixed_test.ipynb\")"
   ]
  },
  {
   "cell_type": "markdown",
   "metadata": {},
   "source": [
    "# Testing and Evaluation - \"leave k out cross fold validation\" \n",
    "### Objective: ###\n",
    "Evaluate the agent's performance by systematically modifying a pre-written notebook and measuring how well the agent restores missing function bodies.\n",
    "\n",
    "### Process: ###\n",
    "\n",
    "1. Input: A Jupyter notebook containing multiple fully implemented functions with a definitive expected output.\n",
    "2. Loop Through Function Removals:\n",
    "    * Start by systematically removing function bodies one by one and testing the agent’s ability to reconstruct them.\n",
    "    * Extend this by removing combinations of multiple function bodies, increasing the difficulty progressively (remove 1 function, then all possible pairs, then groups of 3, ..., up to removing all functions).\n",
    "3. For Each Modified Notebook:\n",
    "    * Run the agent to attempt function reconstruction.\n",
    "    * Execute the notebook to see if it still produces the expected output.\n",
    "    * If the output is correct, increment the agent’s success score.\n",
    "4. Performance Evaluation:\n",
    "    * At each level (1 missing function, 2 missing functions, etc.), compute the average success rate (percentage of notebooks where the agent successfully restored functionality).\n",
    "    * Print and analyze the aggregated success rate at each level to observe performance trends."
   ]
  },
  {
   "cell_type": "code",
   "execution_count": 6,
   "metadata": {},
   "outputs": [
    {
     "ename": "NameError",
     "evalue": "name 'api_key' is not defined",
     "output_type": "error",
     "traceback": [
      "\u001b[0;31m---------------------------------------------------------------------------\u001b[0m",
      "\u001b[0;31mNameError\u001b[0m                                 Traceback (most recent call last)",
      "Cell \u001b[0;32mIn[6], line 2\u001b[0m\n\u001b[1;32m      1\u001b[0m \u001b[38;5;28;01mfrom\u001b[39;00m\u001b[38;5;250m \u001b[39m\u001b[38;5;21;01mopenai\u001b[39;00m\u001b[38;5;250m \u001b[39m\u001b[38;5;28;01mimport\u001b[39;00m OpenAI\n\u001b[0;32m----> 2\u001b[0m client \u001b[38;5;241m=\u001b[39m OpenAI(api_key\u001b[38;5;241m=\u001b[39m\u001b[43mapi_key\u001b[49m)\n\u001b[1;32m      3\u001b[0m response \u001b[38;5;241m=\u001b[39m client\u001b[38;5;241m.\u001b[39mchat\u001b[38;5;241m.\u001b[39mcompletions\u001b[38;5;241m.\u001b[39mcreate(\n\u001b[1;32m      4\u001b[0m     model\u001b[38;5;241m=\u001b[39m\u001b[38;5;124m\"\u001b[39m\u001b[38;5;124mgpt-4\u001b[39m\u001b[38;5;124m\"\u001b[39m,\n\u001b[1;32m      5\u001b[0m     messages\u001b[38;5;241m=\u001b[39m[{\u001b[38;5;124m\"\u001b[39m\u001b[38;5;124mrole\u001b[39m\u001b[38;5;124m\"\u001b[39m: \u001b[38;5;124m\"\u001b[39m\u001b[38;5;124msystem\u001b[39m\u001b[38;5;124m\"\u001b[39m, \u001b[38;5;124m\"\u001b[39m\u001b[38;5;124mcontent\u001b[39m\u001b[38;5;124m\"\u001b[39m: \u001b[38;5;124m\"\u001b[39m\u001b[38;5;124mSay hello!\u001b[39m\u001b[38;5;124m\"\u001b[39m}]\n\u001b[1;32m      6\u001b[0m )\n\u001b[1;32m      7\u001b[0m \u001b[38;5;28mprint\u001b[39m(response)\n",
      "\u001b[0;31mNameError\u001b[0m: name 'api_key' is not defined"
     ]
    }
   ],
   "source": [
    "from openai import OpenAI\n",
    "client = OpenAI(api_key=api_key)\n",
    "response = client.chat.completions.create(\n",
    "    model=\"gpt-4\",\n",
    "    messages=[{\"role\": \"system\", \"content\": \"Say hello!\"}]\n",
    ")\n",
    "print(response)"
   ]
  },
  {
   "cell_type": "code",
   "execution_count": null,
   "metadata": {},
   "outputs": [],
   "source": []
  }
 ],
 "metadata": {
  "kernelspec": {
   "display_name": "Python 3 (ipykernel)",
   "language": "python",
   "name": "python3"
  },
  "language_info": {
   "codemirror_mode": {
    "name": "ipython",
    "version": 3
   },
   "file_extension": ".py",
   "mimetype": "text/x-python",
   "name": "python",
   "nbconvert_exporter": "python",
   "pygments_lexer": "ipython3",
   "version": "3.12.4"
  }
 },
 "nbformat": 4,
 "nbformat_minor": 4
}
