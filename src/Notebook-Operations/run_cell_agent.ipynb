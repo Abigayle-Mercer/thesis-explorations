{
 "cells": [
  {
   "cell_type": "code",
   "execution_count": 39,
   "metadata": {},
   "outputs": [],
   "source": [
    "from dotenv import load_dotenv\n",
    "from langchain.chat_models import ChatOpenAI\n",
    "from langchain.tools import BaseTool, Tool, tool\n",
    "from langgraph.graph import StateGraph, END\n",
    "from langchain_core.messages import SystemMessage, HumanMessage, BaseMessage, FunctionMessage\n",
    "from langgraph.checkpoint.memory import MemorySaver\n",
    "from langgraph.prebuilt.tool_executor import ToolExecutor\n",
    "from langgraph.prebuilt import ToolInvocation\n",
    "from langchain.tools import format_tool_to_openai_function\n",
    "from typing import TypedDict, Sequence\n",
    "import re\n",
    "import requests\n",
    "from jupyter_server.serverapp import list_running_servers\n",
    "import json\n",
    "\n",
    "import os\n",
    "\n",
    "load_dotenv()\n",
    "\n",
    "api_key = os.getenv(\"OPENAI_API_KEY\")\n",
    "\n",
    "os.environ[\"OPENAI_API_KEY\"] = api_key\n",
    "llm = ChatOpenAI(api_key=api_key, model=\"gpt-4\", temperature=0, streaming=True)\n",
    "\n",
    "class AgentState(TypedDict):\n",
    "    messages: Sequence[BaseMessage]\n",
    "    notebook_path: str  # Add notebook path\n"
   ]
  },
  {
   "cell_type": "markdown",
   "metadata": {},
   "source": [
    "<button data-commandLinker-command=\"notebook:run-cell\" href=\"#\">TEST</button>"
   ]
  },
  {
   "cell_type": "code",
   "execution_count": 40,
   "metadata": {},
   "outputs": [],
   "source": [
    "def get_jupyter_server():\n",
    "    \"\"\"\n",
    "    Returns the first available Jupyter server URL and token.\n",
    "    \"\"\"\n",
    "    servers = list(list_running_servers())\n",
    "    if not servers:\n",
    "        return None\n",
    "    \n",
    "    # Return the first running Jupyter server\n",
    "    return servers[0]  # Contains `notebook_dir`, `url`, `token`, etc.\n",
    "\n",
    "server = get_jupyter_server()"
   ]
  },
  {
   "cell_type": "code",
   "execution_count": 41,
   "metadata": {},
   "outputs": [
    {
     "data": {
      "text/plain": [
       "{'base_url': '/',\n",
       " 'hostname': 'localhost',\n",
       " 'password': False,\n",
       " 'pid': 61811,\n",
       " 'port': 8888,\n",
       " 'root_dir': '/Users/abigaylemercer/Desktop/Masters',\n",
       " 'secure': False,\n",
       " 'sock': '',\n",
       " 'token': '33ba6d641485faeb59218a6894e448d000d1d2dd71cedbde',\n",
       " 'url': 'http://localhost:8888/',\n",
       " 'version': '2.15.0'}"
      ]
     },
     "execution_count": 41,
     "metadata": {},
     "output_type": "execute_result"
    }
   ],
   "source": [
    "server"
   ]
  },
  {
   "cell_type": "code",
   "execution_count": 42,
   "metadata": {},
   "outputs": [],
   "source": [
    "def get_active_notebook():\n",
    "    \"\"\"\n",
    "    Retrieves the currently active notebook's API path.\n",
    "    \"\"\"\n",
    "    if not server:\n",
    "        return None\n",
    "    \n",
    "    base_url = server[\"url\"]\n",
    "    token = server[\"token\"]\n",
    "    \n",
    "    # Example: Call Jupyter Server API to list running sessions\n",
    "    try:\n",
    "        response = requests.get(\n",
    "            f\"{base_url}api/sessions\",\n",
    "            headers={\"Authorization\": f\"token {token}\"}\n",
    "        )\n",
    "        response.raise_for_status()\n",
    "        \n",
    "        sessions = response.json()\n",
    "        \n",
    "        # Find the first notebook session\n",
    "        for session in sessions:\n",
    "            if session.get(\"type\") == \"notebook\":\n",
    "                return base_url, session[\"path\"]\n",
    "\n",
    "        return None  # No active notebook found\n",
    "\n",
    "    except requests.RequestException as e:\n",
    "        print(f\"Error retrieving active notebook: {e}\")\n",
    "        return None"
   ]
  },
  {
   "cell_type": "code",
   "execution_count": 46,
   "metadata": {},
   "outputs": [
    {
     "name": "stdout",
     "output_type": "stream",
     "text": [
      "('http://localhost:8888/', 'thesis-explorations/thesis-explorations/test_data/test_book.ipynb')\n"
     ]
    }
   ],
   "source": [
    "print(get_active_notebook())"
   ]
  },
  {
   "cell_type": "code",
   "execution_count": null,
   "metadata": {},
   "outputs": [],
   "source": []
  },
  {
   "cell_type": "code",
   "execution_count": 34,
   "metadata": {},
   "outputs": [],
   "source": [
    "@tool(\"run_current_cell\", return_direct=True)\n",
    "def run_current_cell():\n",
    "    \"\"\"\n",
    "    Runs the currently selected cell in the active Jupyter Notebook.\n",
    "    \"\"\"\n",
    "    notebook_info = get_active_notebook()\n",
    "    if not notebook_info:\n",
    "        return \"No active Jupyter notebook found.\"\n",
    "\n",
    "    base_url, notebook_path = notebook_info\n",
    "    api_url = f\"{base_url}api/contents/{notebook_path}/run\"\n",
    "\n",
    "    try:\n",
    "        headers = {\"Authorization\": f\"token {server['token']}\"}\n",
    "        response = requests.post(api_url, headers=headers)\n",
    "\n",
    "        if response.status_code == 200:\n",
    "            return \"Cell executed successfully.\"\n",
    "        else:\n",
    "            return f\"Error executing cell: {response.text}\"\n",
    "\n",
    "    except Exception as e:\n",
    "        return f\"Error interacting with Jupyter: {str(e)}\""
   ]
  },
  {
   "cell_type": "code",
   "execution_count": 35,
   "metadata": {},
   "outputs": [
    {
     "name": "stderr",
     "output_type": "stream",
     "text": [
      "/var/folders/3h/z8r254ts5r58qphcnd1h46xw0000gn/T/ipykernel_58876/2634666359.py:3: LangGraphDeprecationWarning: ToolExecutor is deprecated as of version 0.2.0 and will be removed in 0.3.0. Use langgraph.prebuilt.ToolNode instead.\n",
      "  tool_executor = ToolExecutor(tools)\n"
     ]
    }
   ],
   "source": [
    "# Step 3: Create the Tool Executor\n",
    "tools = [run_current_cell]\n",
    "tool_executor = ToolExecutor(tools)\n",
    "functions = [format_tool_to_openai_function(t) for t in tools]\n",
    "model = llm.bind_functions(functions)\n",
    "\n",
    "# Step 4: Define the Agent\n",
    "def agent(state):\n",
    "    messages = state[\"messages\"]\n",
    "    response = model.invoke(messages)\n",
    "    return {\"messages\": messages + [response]}\n",
    "\n",
    "def should_continue(state):\n",
    "    messages = state[\"messages\"]\n",
    "    last_message = messages[-1]\n",
    "    return \"continue\" if \"function_call\" in last_message.additional_kwargs else \"end\"\n",
    "\n",
    "def call_tool(state):\n",
    "    messages = state[\"messages\"]\n",
    "    last_message = messages[-1]\n",
    "    notebook_path = state[\"notebook_path\"]\n",
    "\n",
    "    action = ToolInvocation(\n",
    "        tool=last_message.additional_kwargs[\"function_call\"][\"name\"],\n",
    "        tool_input={\"notebook_path\": notebook_path}  # Pass notebook path\n",
    "    )\n",
    "\n",
    "    response = tool_executor.invoke(action)\n",
    "    function_message = FunctionMessage(content=str(response), name=action.tool)\n",
    "    return {\"messages\": messages + [function_message], \"notebook_path\": notebook_path}\n",
    "\n",
    "# Step 5: Build Workflow\n",
    "workflow = StateGraph(AgentState)\n",
    "workflow.add_node(\"agent\", agent)\n",
    "workflow.add_node(\"action\", call_tool)\n",
    "workflow.set_entry_point(\"agent\")\n",
    "workflow.add_conditional_edges(\"agent\", should_continue, {\"continue\": \"action\", \"end\": END})\n",
    "workflow.add_edge(\"action\", \"agent\")\n",
    "app = workflow.compile()\n",
    "\n",
    "# Export the agent\n",
    "def get_agent():\n",
    "    return app\n"
   ]
  },
  {
   "cell_type": "code",
   "execution_count": 36,
   "metadata": {},
   "outputs": [],
   "source": [
    "notebook_info = get_active_notebook()\n"
   ]
  },
  {
   "cell_type": "code",
   "execution_count": 37,
   "metadata": {},
   "outputs": [
    {
     "data": {
      "text/plain": [
       "('http://localhost:8888/', 'test.ipynb')"
      ]
     },
     "execution_count": 37,
     "metadata": {},
     "output_type": "execute_result"
    }
   ],
   "source": [
    "notebook_info"
   ]
  },
  {
   "cell_type": "code",
   "execution_count": 38,
   "metadata": {},
   "outputs": [
    {
     "name": "stderr",
     "output_type": "stream",
     "text": [
      "/var/folders/3h/z8r254ts5r58qphcnd1h46xw0000gn/T/ipykernel_58876/2634666359.py:23: LangGraphDeprecationWarning: ToolInvocation is deprecated as of version 0.2.0 and will be removed in 0.3.0. Use langgraph.prebuilt.ToolNode instead.\n",
      "  action = ToolInvocation(\n"
     ]
    },
    {
     "name": "stdout",
     "output_type": "stream",
     "text": [
      "{'messages': [SystemMessage(content='You are an AI assistant for Jupyter Notebooks.', additional_kwargs={}, response_metadata={}), HumanMessage(content='Run the current cell.', additional_kwargs={}, response_metadata={}), AIMessage(content='', additional_kwargs={'function_call': {'arguments': '{}', 'name': 'run_current_cell'}}, response_metadata={'finish_reason': 'function_call'}, id='run-adc5239f-9f33-41db-8cae-511c20480682-0'), FunctionMessage(content='Error executing cell: {\"message\": \"No such directory: test.ipynb/run\", \"reason\": null}', additional_kwargs={}, response_metadata={}, name='run_current_cell'), AIMessage(content='I\\'m sorry, but there seems to be an error executing the cell. The directory or file \"test.ipynb/run\" does not exist. Please make sure the file and directory are correct.', additional_kwargs={}, response_metadata={'finish_reason': 'stop'}, id='run-e4e54eae-bdea-4553-bbcb-7c72e3b67dbf-0')], 'notebook_path': 'test.ipynb'}\n"
     ]
    }
   ],
   "source": [
    "if notebook_info:\n",
    "    base_url, notebook_path = notebook_info\n",
    "\n",
    "    # Start agent with the notebook context\n",
    "    inputs = {\n",
    "        \"messages\": [SystemMessage(content=\"You are an AI assistant for Jupyter Notebooks.\"),\n",
    "                     HumanMessage(content=\"Run the current cell.\")],\n",
    "        \"notebook_path\": notebook_path\n",
    "    }\n",
    "\n",
    "    response = app.invoke(inputs)\n",
    "    print(response)\n",
    "else:\n",
    "    print(\"No active Jupyter notebooks found.\")"
   ]
  },
  {
   "cell_type": "code",
   "execution_count": null,
   "metadata": {},
   "outputs": [],
   "source": []
  }
 ],
 "metadata": {
  "kernelspec": {
   "display_name": "Python 3 (ipykernel)",
   "language": "python",
   "name": "python3"
  },
  "language_info": {
   "codemirror_mode": {
    "name": "ipython",
    "version": 3
   },
   "file_extension": ".py",
   "mimetype": "text/x-python",
   "name": "python",
   "nbconvert_exporter": "python",
   "pygments_lexer": "ipython3",
   "version": "3.12.4"
  }
 },
 "nbformat": 4,
 "nbformat_minor": 4
}
